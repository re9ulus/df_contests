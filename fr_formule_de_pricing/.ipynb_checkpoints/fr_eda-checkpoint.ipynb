{
 "cells": [
  {
   "cell_type": "markdown",
   "metadata": {},
   "source": [
    "# France price prediction contest EDA"
   ]
  },
  {
   "cell_type": "markdown",
   "metadata": {},
   "source": [
    "### Variable description\n",
    "\n",
    "annee_naissance - date of birth"
   ]
  },
  {
   "cell_type": "code",
   "execution_count": 13,
   "metadata": {
    "collapsed": false
   },
   "outputs": [],
   "source": [
    "import pandas as pd\n",
    "import numpy as np\n",
    "\n",
    "import matplotlib.pyplot as plt\n",
    "plt.style.use('ggplot')\n",
    "\n",
    "%matplotlib inline"
   ]
  },
  {
   "cell_type": "code",
   "execution_count": 53,
   "metadata": {
    "collapsed": false
   },
   "outputs": [
    {
     "data": {
      "text/html": [
       "<div>\n",
       "<table border=\"1\" class=\"dataframe\">\n",
       "  <thead>\n",
       "    <tr style=\"text-align: right;\">\n",
       "      <th></th>\n",
       "      <th>annee_naissance</th>\n",
       "      <th>annee_permis</th>\n",
       "      <th>marque</th>\n",
       "      <th>puis_fiscale</th>\n",
       "      <th>anc_veh</th>\n",
       "      <th>codepostal</th>\n",
       "      <th>energie_veh</th>\n",
       "      <th>kmage_annuel</th>\n",
       "      <th>crm</th>\n",
       "      <th>profession</th>\n",
       "      <th>...</th>\n",
       "      <th>var14</th>\n",
       "      <th>var15</th>\n",
       "      <th>var16</th>\n",
       "      <th>var17</th>\n",
       "      <th>var18</th>\n",
       "      <th>var19</th>\n",
       "      <th>var20</th>\n",
       "      <th>var21</th>\n",
       "      <th>var22</th>\n",
       "      <th>prime_tot_ttc</th>\n",
       "    </tr>\n",
       "    <tr>\n",
       "      <th>id</th>\n",
       "      <th></th>\n",
       "      <th></th>\n",
       "      <th></th>\n",
       "      <th></th>\n",
       "      <th></th>\n",
       "      <th></th>\n",
       "      <th></th>\n",
       "      <th></th>\n",
       "      <th></th>\n",
       "      <th></th>\n",
       "      <th></th>\n",
       "      <th></th>\n",
       "      <th></th>\n",
       "      <th></th>\n",
       "      <th></th>\n",
       "      <th></th>\n",
       "      <th></th>\n",
       "      <th></th>\n",
       "      <th></th>\n",
       "      <th></th>\n",
       "      <th></th>\n",
       "    </tr>\n",
       "  </thead>\n",
       "  <tbody>\n",
       "    <tr>\n",
       "      <th>1</th>\n",
       "      <td>1986.0</td>\n",
       "      <td>2006.0</td>\n",
       "      <td>RENAULT</td>\n",
       "      <td>4</td>\n",
       "      <td>1</td>\n",
       "      <td>1034</td>\n",
       "      <td>gpl</td>\n",
       "      <td>2924</td>\n",
       "      <td>68</td>\n",
       "      <td>enseignant, formateur, chercheur</td>\n",
       "      <td>...</td>\n",
       "      <td>N</td>\n",
       "      <td>1</td>\n",
       "      <td>1</td>\n",
       "      <td>1</td>\n",
       "      <td>27</td>\n",
       "      <td>0</td>\n",
       "      <td>0</td>\n",
       "      <td>0</td>\n",
       "      <td>1</td>\n",
       "      <td>254.75</td>\n",
       "    </tr>\n",
       "    <tr>\n",
       "      <th>2</th>\n",
       "      <td>1986.0</td>\n",
       "      <td>2006.0</td>\n",
       "      <td>RENAULT</td>\n",
       "      <td>8</td>\n",
       "      <td>2</td>\n",
       "      <td>1034</td>\n",
       "      <td>gpl</td>\n",
       "      <td>11580</td>\n",
       "      <td>50</td>\n",
       "      <td>enseignant, formateur, chercheur</td>\n",
       "      <td>...</td>\n",
       "      <td>N</td>\n",
       "      <td>2</td>\n",
       "      <td>1</td>\n",
       "      <td>1</td>\n",
       "      <td>28</td>\n",
       "      <td>0</td>\n",
       "      <td>0</td>\n",
       "      <td>0</td>\n",
       "      <td>1</td>\n",
       "      <td>259.89</td>\n",
       "    </tr>\n",
       "  </tbody>\n",
       "</table>\n",
       "<p>2 rows × 33 columns</p>\n",
       "</div>"
      ],
      "text/plain": [
       "    annee_naissance  annee_permis   marque  puis_fiscale  anc_veh codepostal  \\\n",
       "id                                                                             \n",
       "1            1986.0        2006.0  RENAULT             4        1       1034   \n",
       "2            1986.0        2006.0  RENAULT             8        2       1034   \n",
       "\n",
       "   energie_veh  kmage_annuel  crm                        profession  \\\n",
       "id                                                                    \n",
       "1          gpl          2924   68  enseignant, formateur, chercheur   \n",
       "2          gpl         11580   50  enseignant, formateur, chercheur   \n",
       "\n",
       "        ...        var14  var15  var16  var17  var18 var19 var20 var21  var22  \\\n",
       "id      ...                                                                     \n",
       "1       ...            N      1      1      1     27     0     0     0      1   \n",
       "2       ...            N      2      1      1     28     0     0     0      1   \n",
       "\n",
       "    prime_tot_ttc  \n",
       "id                 \n",
       "1          254.75  \n",
       "2          259.89  \n",
       "\n",
       "[2 rows x 33 columns]"
      ]
     },
     "execution_count": 53,
     "metadata": {},
     "output_type": "execute_result"
    }
   ],
   "source": [
    "data = pd.read_csv('./data/ech_apprentissage.csv', sep=';', index_col='id', dtype={})\n",
    "data.head(2)"
   ]
  },
  {
   "cell_type": "code",
   "execution_count": 9,
   "metadata": {
    "collapsed": false
   },
   "outputs": [
    {
     "data": {
      "text/plain": [
       "(300000, 33)"
      ]
     },
     "execution_count": 9,
     "metadata": {},
     "output_type": "execute_result"
    }
   ],
   "source": [
    "data.shape"
   ]
  },
  {
   "cell_type": "code",
   "execution_count": 12,
   "metadata": {
    "collapsed": false
   },
   "outputs": [],
   "source": [
    "y = data['prime_tot_ttc']\n",
    "X = data.drop('prime_tot_ttc', axis=1)"
   ]
  },
  {
   "cell_type": "markdown",
   "metadata": {},
   "source": [
    "## Target variable research"
   ]
  },
  {
   "cell_type": "code",
   "execution_count": 23,
   "metadata": {
    "collapsed": false
   },
   "outputs": [
    {
     "data": {
      "image/png": "[encoded data removed]",
      "text/plain": [
       "<matplotlib.figure.Figure at 0x13e97128>"
      ]
     },
     "metadata": {},
     "output_type": "display_data"
    }
   ],
   "source": [
    "n, bins, patches = plt.hist(y, bins=100)\n",
    "plt.xlabel('prime_tot_ttc')\n",
    "plt.title('Target variable distribution')\n",
    "plt.show()"
   ]
  },
  {
   "cell_type": "code",
   "execution_count": 28,
   "metadata": {
    "collapsed": false
   },
   "outputs": [
    {
     "name": "stdout",
     "output_type": "stream",
     "text": [
      "Number of items with target variable > 100: 176\n",
      "It's 0.0586666666667% of the data.\n"
     ]
    }
   ],
   "source": [
    "outstanding_y = sum(y > 1000)\n",
    "print('Number of items with target variable > 100: {}'.format(outstanding_y))\n",
    "print('It\\'s {}% of the data.'.format(float(outstanding_y) / len(y) * 100))"
   ]
  },
  {
   "cell_type": "markdown",
   "metadata": {},
   "source": [
    "### Conclusion\n",
    "\n",
    "Target variable *prime_tot_ttc* has a very large right tail with a small amount items in it.\n",
    "\n",
    "**Hypothes 1:** Records with $prime\\_toc\\_ttc > 1000$ can be removed. It's 176 objects, less then $1\\%$ of the data."
   ]
  },
  {
   "cell_type": "markdown",
   "metadata": {},
   "source": [
    "## Variables research"
   ]
  },
  {
   "cell_type": "code",
   "execution_count": 37,
   "metadata": {
    "collapsed": false
   },
   "outputs": [
    {
     "data": {
      "text/plain": [
       "annee_naissance    float64\n",
       "annee_permis       float64\n",
       "marque              object\n",
       "puis_fiscale         int64\n",
       "anc_veh              int64\n",
       "codepostal          object\n",
       "energie_veh         object\n",
       "kmage_annuel         int64\n",
       "crm                  int64\n",
       "profession          object\n",
       "var1               float64\n",
       "var2                 int64\n",
       "var3                 int64\n",
       "var4                 int64\n",
       "var5                 int64\n",
       "var6                object\n",
       "var7                object\n",
       "var8                object\n",
       "var9                 int64\n",
       "var10                int64\n",
       "var11                int64\n",
       "var12                int64\n",
       "var13                int64\n",
       "var14               object\n",
       "var15                int64\n",
       "var16               object\n",
       "var17                int64\n",
       "var18                int64\n",
       "var19                int64\n",
       "var20                int64\n",
       "var21                int64\n",
       "var22                int64\n",
       "dtype: object"
      ]
     },
     "execution_count": 37,
     "metadata": {},
     "output_type": "execute_result"
    }
   ],
   "source": [
    "X.dtypes"
   ]
  },
  {
   "cell_type": "code",
   "execution_count": 60,
   "metadata": {
    "collapsed": false
   },
   "outputs": [],
   "source": [
    "num_cols = ['annee_naissance', 'annee_permis', 'puis_fiscale', 'anc_veh', 'kmage_annuel', 'crm', 'var1', 'var2', 'var3', \\\n",
    "            'var4', 'var5', 'var9', 'var10', 'var11', 'var12', 'var13', 'var15', 'var17', 'var18', 'var19', 'var20', \\\n",
    "            'var21', 'var22']\n",
    "cat_cols = ['marque', 'codepostal', 'energie_veh', 'profession', 'var6', 'var7', 'var8', 'var14', 'var16']"
   ]
  },
  {
   "cell_type": "markdown",
   "metadata": {},
   "source": [
    "## Numerical columns research"
   ]
  },
  {
   "cell_type": "code",
   "execution_count": 63,
   "metadata": {
    "collapsed": false
   },
   "outputs": [],
   "source": [
    "X_num = X[num_cols]"
   ]
  },
  {
   "cell_type": "code",
   "execution_count": 73,
   "metadata": {
    "collapsed": false
   },
   "outputs": [
    {
     "data": {
      "text/plain": [
       "var5              -0.164251\n",
       "var1              -0.160806\n",
       "anc_veh           -0.113175\n",
       "var11             -0.112625\n",
       "puis_fiscale      -0.087858\n",
       "var12             -0.055526\n",
       "var9              -0.017677\n",
       "var18             -0.008995\n",
       "var19             -0.003160\n",
       "var22             -0.002512\n",
       "var21              0.000776\n",
       "var20              0.001241\n",
       "var17              0.005639\n",
       "kmage_annuel       0.017368\n",
       "var15              0.027815\n",
       "var13              0.051978\n",
       "var3               0.070001\n",
       "var2               0.082028\n",
       "var10              0.095162\n",
       "var4               0.137481\n",
       "annee_naissance    0.160273\n",
       "annee_permis       0.160806\n",
       "crm                0.672603\n",
       "dtype: float64"
      ]
     },
     "execution_count": 73,
     "metadata": {},
     "output_type": "execute_result"
    }
   ],
   "source": [
    "X_num.corrwith(y).sort_values()"
   ]
  },
  {
   "cell_type": "markdown",
   "metadata": {},
   "source": [
    "### annee_naissance"
   ]
  },
  {
   "cell_type": "code",
   "execution_count": 109,
   "metadata": {
    "collapsed": false
   },
   "outputs": [
    {
     "name": "stdout",
     "output_type": "stream",
     "text": [
      "annee_naissance summary:\n",
      "count    299710.000000\n",
      "mean       1983.682506\n",
      "std           6.568576\n",
      "min        1925.000000\n",
      "25%        1980.000000\n",
      "50%        1985.000000\n",
      "75%        1989.000000\n",
      "max        1998.000000\n",
      "Name: annee_naissance, dtype: float64\n",
      "\n",
      "Count: 299710\n",
      "\n",
      "Has NaNs:\tTrue\n",
      "% of the data:\t0.0967%\n",
      "number of NaNs:\t290\n",
      "\n",
      "Number of unique items: 69\n",
      "\n",
      "====================\n"
     ]
    }
   ],
   "source": [
    "def basic_describe_num_variable(df, col_name):\n",
    "    col_name = 'annee_naissance'\n",
    "    target_col = X_num[col_name]\n",
    "    print('{} summary:'.format(col_name))\n",
    "    print(target_col.describe())\n",
    "\n",
    "    print('\\nCount: {}'.format(target_col.count()))\n",
    "\n",
    "    print('\\nHas NaNs:\\t{0}\\n% of the data:\\t{1:.3}%\\nnumber of NaNs:\\t{2}'.format(target_col.hasnans,\n",
    "                                                              float(target_col.isnull().sum()) / len(target_col) * 100,\n",
    "                                                              target_col.isnull().sum()))\n",
    "\n",
    "    print('\\nNumber of unique items: {0}'.format(len(target_col.unique())))\n",
    "    print('\\n====================')"
   ]
  },
  {
   "cell_type": "code",
   "execution_count": null,
   "metadata": {
    "collapsed": true
   },
   "outputs": [],
   "source": []
  },
  {
   "cell_type": "code",
   "execution_count": 80,
   "metadata": {
    "collapsed": false
   },
   "outputs": [
    {
     "data": {
      "text/plain": [
       "299710"
      ]
     },
     "execution_count": 80,
     "metadata": {},
     "output_type": "execute_result"
    }
   ],
   "source": []
  },
  {
   "cell_type": "code",
   "execution_count": null,
   "metadata": {
    "collapsed": true
   },
   "outputs": [],
   "source": [
    "### Conclusion: annee_naissance"
   ]
  }
 ],
 "metadata": {
  "kernelspec": {
   "display_name": "Python 2",
   "language": "python",
   "name": "python2"
  },
  "language_info": {
   "codemirror_mode": {
    "name": "ipython",
    "version": 2
   },
   "file_extension": ".py",
   "mimetype": "text/x-python",
   "name": "python",
   "nbconvert_exporter": "python",
   "pygments_lexer": "ipython2",
   "version": "2.7.11"
  }
 },
 "nbformat": 4,
 "nbformat_minor": 0
}
