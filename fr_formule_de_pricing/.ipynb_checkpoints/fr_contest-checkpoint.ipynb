{
 "cells": [
  {
   "cell_type": "code",
   "execution_count": 1,
   "metadata": {
    "collapsed": true
   },
   "outputs": [],
   "source": [
    "# ToDo:\n",
    "# 1. cut post codes to first 2 digits +\n",
    "# 2. move all rare cars to separate category (rare < 5 mark records) +\n",
    "# 3. convert categorical variables with onehot/labelencoding +\n",
    "# 4. add indicator variables for default variables +\n",
    "# 5. Drop correlated features\n",
    "# 6. Set type of all categorical coll to categorical\n",
    "\n",
    "# Maybe:\n",
    "# 1. Remove from train data records that can't be in test (marque of cars, regions)\n",
    "\n",
    "# TODO: Add encode_with_target_mean function foe categorical variables encoding."
   ]
  },
  {
   "cell_type": "code",
   "execution_count": 2,
   "metadata": {
    "collapsed": false
   },
   "outputs": [],
   "source": [
    "import pandas as pd\n",
    "import numpy as np\n",
    "import matplotlib.pyplot as plt\n",
    "from sklearn.metrics import log_loss\n",
    "from sklearn.cross_validation import train_test_split\n",
    "from sklearn.preprocessing import normalize\n",
    "from sklearn.grid_search import GridSearchCV\n",
    "\n",
    "from sklearn.ensemble import RandomForestClassifier\n",
    "from sklearn.linear_model import LinearRegression\n",
    "\n",
    "from sklearn import preprocessing\n",
    "from sklearn.feature_extraction import DictVectorizer as DV\n",
    "from sklearn.metrics import accuracy_score\n",
    "\n",
    "import xgboost as xgb\n",
    "\n",
    "%matplotlib inline\n",
    "plt.style.use('ggplot')\n",
    "random_state = 42"
   ]
  },
  {
   "cell_type": "code",
   "execution_count": 3,
   "metadata": {
    "collapsed": false
   },
   "outputs": [],
   "source": [
    "num_cols = ['annee_naissance', 'annee_permis', 'puis_fiscale', 'anc_veh', 'kmage_annuel', 'crm', 'var2', \\\n",
    "            'var4', 'var5', 'var9', 'var10', 'var12', 'var13', 'var15', 'var17', 'var18', 'var19', 'var20', \\\n",
    "            'var21', 'var22', 'codepostal'] # var1, var3, var11,\n",
    "cat_cols = ['energie_veh', 'profession', 'var6', 'var7', 'var8', 'var16'] # var14, marque\n",
    "unused = []\n",
    "\n",
    "to_drop = ['var1', 'var3', 'var11', 'var14'] # codepostal\n",
    "\n",
    "\n",
    "def metric(y_true, y_pred):\n",
    "    return np.mean(np.abs((y_true - y_pred) / y_true))\n",
    "\n",
    "\n",
    "def prepare_data(df):\n",
    "    # TODO: Find better way to deal NaN variables\n",
    "    df.fillna(0, inplace=True)\n",
    "    \n",
    "    # codepostal\n",
    "    # 1. Replace char records to 0\n",
    "    # 2. Replace post codes to first 2 digits\n",
    "    # 3. Convert to categorical type ???\n",
    "    df['codepostal'] = df['codepostal'].apply(lambda it: 0 if not str(it).isdigit() else it)\n",
    "    df['codepostal'] = df['codepostal'].apply(lambda it: int(str(it)[:2]))\n",
    "#     df['codepostal'] = df['codepostal'].astype('category')\n",
    "    \n",
    "    # drop correlated features\n",
    "#     features_to_drop = ['']\n",
    "\n",
    "    # add indicator variables for default variables\n",
    "    \n",
    "    df['def_anc_veh'] = df['anc_veh'].apply(lambda it: 1 if it==99 else 0)\n",
    "    df['def_var9'] = df['var9'].apply(lambda it: 1 if it==0 else 0)\n",
    "    df['def_var10'] = df['var10'].apply(lambda it: 1 if it==0 else 0)\n",
    "#     df['def_var11'] = df['var11'].apply(lambda it: 1 if it==99 else 0)\n",
    "    df['def_var12'] = df['var12'].apply(lambda it: 1 if it==3211 else 0)\n",
    "    \n",
    "    df['def_kmage_annuel'] = df['kmage_annuel'].apply(lambda it: 1 if it<17000 else 0)\n",
    "    \n",
    "    # test items\n",
    "#     df[df['kmage_annuel']<17000]['def_kmage_annuel'] = 3\n",
    "#     df[df['kmage_annuel']<10000]['def_kmage_annuel'] = 2\n",
    "#     df[df['kmage_annuel']<5000]['def_kmage_annuel'] = 1\n",
    "#     df['def_var18_less'] = df['var18'].apply(lambda it: 1 if it < 20 else 0)\n",
    "    \n",
    "#     df['puis_fiscale_sqrt'] = np.sqrt(df['puis_fiscale'])\n",
    "#     df['puis_fiscale_sq'] = np.square(df['puis_fiscale'])\n",
    "    \n",
    "    return df\n",
    "\n",
    "\n",
    "def encode_cat_wit_mean(df, cat_cols, target):\n",
    "    for col in cat_cols:\n",
    "        possible_cats = list(df[col].unique())\n",
    "        cat_means = []\n",
    "        for cat in possible_cats:\n",
    "            cat_means.append( (np.mean(target[df[col]==cat]), cat) ) \n",
    "        i = 1\n",
    "        for val, cat in sorted(cat_means):\n",
    "            df[df[col]==cat] = i\n",
    "            i += 1\n",
    "    return df\n",
    "\n",
    "def prepare_num_data(df):\n",
    "    return preprocessing.scale(df)"
   ]
  },
  {
   "cell_type": "code",
   "execution_count": 4,
   "metadata": {
    "collapsed": false
   },
   "outputs": [
    {
     "name": "stderr",
     "output_type": "stream",
     "text": [
      "D:\\soft\\dev\\anaconda\\lib\\site-packages\\IPython\\core\\interactiveshell.py:2723: DtypeWarning: Columns (6) have mixed types. Specify dtype option on import or set low_memory=False.\n",
      "  interactivity=interactivity, compiler=compiler, result=result)\n"
     ]
    },
    {
     "name": "stdout",
     "output_type": "stream",
     "text": [
      "shape: (330000, 30)\n"
     ]
    },
    {
     "data": {
      "text/html": [
       "<div>\n",
       "<table border=\"1\" class=\"dataframe\">\n",
       "  <thead>\n",
       "    <tr style=\"text-align: right;\">\n",
       "      <th></th>\n",
       "      <th>anc_veh</th>\n",
       "      <th>annee_naissance</th>\n",
       "      <th>annee_permis</th>\n",
       "      <th>codepostal</th>\n",
       "      <th>crm</th>\n",
       "      <th>energie_veh</th>\n",
       "      <th>kmage_annuel</th>\n",
       "      <th>prime_tot_ttc</th>\n",
       "      <th>profession</th>\n",
       "      <th>puis_fiscale</th>\n",
       "      <th>...</th>\n",
       "      <th>var20</th>\n",
       "      <th>var21</th>\n",
       "      <th>var22</th>\n",
       "      <th>var4</th>\n",
       "      <th>var5</th>\n",
       "      <th>var6</th>\n",
       "      <th>var7</th>\n",
       "      <th>var8</th>\n",
       "      <th>var9</th>\n",
       "      <th>model</th>\n",
       "    </tr>\n",
       "    <tr>\n",
       "      <th>id</th>\n",
       "      <th></th>\n",
       "      <th></th>\n",
       "      <th></th>\n",
       "      <th></th>\n",
       "      <th></th>\n",
       "      <th></th>\n",
       "      <th></th>\n",
       "      <th></th>\n",
       "      <th></th>\n",
       "      <th></th>\n",
       "      <th></th>\n",
       "      <th></th>\n",
       "      <th></th>\n",
       "      <th></th>\n",
       "      <th></th>\n",
       "      <th></th>\n",
       "      <th></th>\n",
       "      <th></th>\n",
       "      <th></th>\n",
       "      <th></th>\n",
       "      <th></th>\n",
       "    </tr>\n",
       "  </thead>\n",
       "  <tbody>\n",
       "    <tr>\n",
       "      <th>1</th>\n",
       "      <td>1</td>\n",
       "      <td>1986.0</td>\n",
       "      <td>2006.0</td>\n",
       "      <td>1034</td>\n",
       "      <td>68</td>\n",
       "      <td>gpl</td>\n",
       "      <td>2924</td>\n",
       "      <td>254.75</td>\n",
       "      <td>enseignant, formateur, chercheur</td>\n",
       "      <td>4</td>\n",
       "      <td>...</td>\n",
       "      <td>0</td>\n",
       "      <td>0</td>\n",
       "      <td>1</td>\n",
       "      <td>0</td>\n",
       "      <td>1</td>\n",
       "      <td>A</td>\n",
       "      <td>1</td>\n",
       "      <td>B1</td>\n",
       "      <td>60</td>\n",
       "      <td>RENAULT</td>\n",
       "    </tr>\n",
       "  </tbody>\n",
       "</table>\n",
       "<p>1 rows × 30 columns</p>\n",
       "</div>"
      ],
      "text/plain": [
       "    anc_veh  annee_naissance  annee_permis codepostal  crm energie_veh  \\\n",
       "id                                                                       \n",
       "1         1           1986.0        2006.0       1034   68         gpl   \n",
       "\n",
       "    kmage_annuel  prime_tot_ttc                        profession  \\\n",
       "id                                                                  \n",
       "1           2924         254.75  enseignant, formateur, chercheur   \n",
       "\n",
       "    puis_fiscale   ...    var20  var21  var22  var4  var5 var6  var7  var8  \\\n",
       "id                 ...                                                       \n",
       "1              4   ...        0      0      1     0     1    A     1    B1   \n",
       "\n",
       "    var9    model  \n",
       "id                 \n",
       "1     60  RENAULT  \n",
       "\n",
       "[1 rows x 30 columns]"
      ]
     },
     "execution_count": 4,
     "metadata": {},
     "output_type": "execute_result"
    }
   ],
   "source": [
    "data = pd.read_csv('./data/ech_apprentissage.csv', sep=';', index_col='id')\n",
    "test_data = pd.read_csv('./data/ech_test.csv', sep=';', index_col='id')\n",
    "\n",
    "data['status'] = 'train'\n",
    "test_data['status'] = 'test'\n",
    "test_data['prime_tot_ttc'] = 0\n",
    "\n",
    "all_data = pd.concat([data, test_data])\n",
    "\n",
    "all_data['model'] = all_data['marque'] + all_data['var12'].astype('str')# + all_data['energie_veh']\n",
    "\n",
    "rare_car_border = 5\n",
    "marks_count = all_data['marque'].value_counts()\n",
    "rare_marks = list(marks_count[marks_count < rare_car_border].keys())\n",
    "all_data['marque'] = all_data['marque'].apply(\n",
    "    lambda it: it if it not in rare_marks else 'RARE')\n",
    "all_data['model'] = all_data['marque'].apply(\n",
    "    lambda it: it if it not in rare_marks else 'RARE')\n",
    "\n",
    "all_data.drop('marque', inplace=True, axis=1)\n",
    "all_data.drop(to_drop, inplace=True, axis=1)\n",
    "\n",
    "cat_cols.append('model')\n",
    "# data['model'] = data['marque'] + data['var12'].astype(str)# + data['energie_veh']\n",
    "# test_data['model'] = test_data['marque'] + test_data['var12'].astype(str) #+ test_data['energie_veh']\n",
    "#cat_cols.append('model')\n",
    "\n",
    "# data_num = data[num_cols]\n",
    "# test_data_num = test_data[num_cols]\n",
    "\n",
    "# data_cat = data[cat_cols]\n",
    "# test_data_cat = test_data[cat_cols]\n",
    "\n",
    "all_data_num = all_data[num_cols]\n",
    "all_data_cat = all_data[cat_cols]\n",
    "\n",
    "print('shape: {}'.format(all_data.shape))\n",
    "all_data.head(1)"
   ]
  },
  {
   "cell_type": "code",
   "execution_count": 5,
   "metadata": {
    "collapsed": false
   },
   "outputs": [
    {
     "data": {
      "text/plain": [
       "Index([u'anc_veh', u'annee_naissance', u'annee_permis', u'codepostal', u'crm',\n",
       "       u'energie_veh', u'kmage_annuel', u'prime_tot_ttc', u'profession',\n",
       "       u'puis_fiscale', u'status', u'var10', u'var12', u'var13', u'var15',\n",
       "       u'var16', u'var17', u'var18', u'var19', u'var2', u'var20', u'var21',\n",
       "       u'var22', u'var4', u'var5', u'var6', u'var7', u'var8', u'var9',\n",
       "       u'model'],\n",
       "      dtype='object')"
      ]
     },
     "execution_count": 5,
     "metadata": {},
     "output_type": "execute_result"
    }
   ],
   "source": [
    "all_data.columns"
   ]
  },
  {
   "cell_type": "markdown",
   "metadata": {},
   "source": [
    "## Prepare numerical variables"
   ]
  },
  {
   "cell_type": "code",
   "execution_count": 6,
   "metadata": {
    "collapsed": false
   },
   "outputs": [
    {
     "name": "stderr",
     "output_type": "stream",
     "text": [
      "D:\\soft\\dev\\anaconda\\lib\\site-packages\\pandas\\core\\frame.py:2756: SettingWithCopyWarning: \n",
      "A value is trying to be set on a copy of a slice from a DataFrame\n",
      "\n",
      "See the caveats in the documentation: http://pandas.pydata.org/pandas-docs/stable/indexing.html#indexing-view-versus-copy\n",
      "  downcast=downcast, **kwargs)\n",
      "D:\\soft\\dev\\anaconda\\lib\\site-packages\\ipykernel\\__main__.py:20: SettingWithCopyWarning: \n",
      "A value is trying to be set on a copy of a slice from a DataFrame.\n",
      "Try using .loc[row_indexer,col_indexer] = value instead\n",
      "\n",
      "See the caveats in the documentation: http://pandas.pydata.org/pandas-docs/stable/indexing.html#indexing-view-versus-copy\n",
      "D:\\soft\\dev\\anaconda\\lib\\site-packages\\ipykernel\\__main__.py:21: SettingWithCopyWarning: \n",
      "A value is trying to be set on a copy of a slice from a DataFrame.\n",
      "Try using .loc[row_indexer,col_indexer] = value instead\n",
      "\n",
      "See the caveats in the documentation: http://pandas.pydata.org/pandas-docs/stable/indexing.html#indexing-view-versus-copy\n",
      "D:\\soft\\dev\\anaconda\\lib\\site-packages\\ipykernel\\__main__.py:29: SettingWithCopyWarning: \n",
      "A value is trying to be set on a copy of a slice from a DataFrame.\n",
      "Try using .loc[row_indexer,col_indexer] = value instead\n",
      "\n",
      "See the caveats in the documentation: http://pandas.pydata.org/pandas-docs/stable/indexing.html#indexing-view-versus-copy\n",
      "D:\\soft\\dev\\anaconda\\lib\\site-packages\\ipykernel\\__main__.py:30: SettingWithCopyWarning: \n",
      "A value is trying to be set on a copy of a slice from a DataFrame.\n",
      "Try using .loc[row_indexer,col_indexer] = value instead\n",
      "\n",
      "See the caveats in the documentation: http://pandas.pydata.org/pandas-docs/stable/indexing.html#indexing-view-versus-copy\n",
      "D:\\soft\\dev\\anaconda\\lib\\site-packages\\ipykernel\\__main__.py:31: SettingWithCopyWarning: \n",
      "A value is trying to be set on a copy of a slice from a DataFrame.\n",
      "Try using .loc[row_indexer,col_indexer] = value instead\n",
      "\n",
      "See the caveats in the documentation: http://pandas.pydata.org/pandas-docs/stable/indexing.html#indexing-view-versus-copy\n",
      "D:\\soft\\dev\\anaconda\\lib\\site-packages\\ipykernel\\__main__.py:33: SettingWithCopyWarning: \n",
      "A value is trying to be set on a copy of a slice from a DataFrame.\n",
      "Try using .loc[row_indexer,col_indexer] = value instead\n",
      "\n",
      "See the caveats in the documentation: http://pandas.pydata.org/pandas-docs/stable/indexing.html#indexing-view-versus-copy\n",
      "D:\\soft\\dev\\anaconda\\lib\\site-packages\\ipykernel\\__main__.py:35: SettingWithCopyWarning: \n",
      "A value is trying to be set on a copy of a slice from a DataFrame.\n",
      "Try using .loc[row_indexer,col_indexer] = value instead\n",
      "\n",
      "See the caveats in the documentation: http://pandas.pydata.org/pandas-docs/stable/indexing.html#indexing-view-versus-copy\n"
     ]
    }
   ],
   "source": [
    "# data_num = prepare_data(data_num)\n",
    "# test_data_num = prepare_data(test_data_num)\n",
    "all_data_num = prepare_data(all_data_num)"
   ]
  },
  {
   "cell_type": "markdown",
   "metadata": {},
   "source": [
    "## Prepare categorical variables"
   ]
  },
  {
   "cell_type": "code",
   "execution_count": 7,
   "metadata": {
    "collapsed": false
   },
   "outputs": [
    {
     "name": "stderr",
     "output_type": "stream",
     "text": [
      "D:\\soft\\dev\\anaconda\\lib\\site-packages\\ipykernel\\__main__.py:7: SettingWithCopyWarning: \n",
      "A value is trying to be set on a copy of a slice from a DataFrame.\n",
      "Try using .loc[row_indexer,col_indexer] = value instead\n",
      "\n",
      "See the caveats in the documentation: http://pandas.pydata.org/pandas-docs/stable/indexing.html#indexing-view-versus-copy\n"
     ]
    }
   ],
   "source": [
    "# marque\n",
    "# Saving rare marks from train to use it in test and\n",
    "\n",
    "# Label encoding\n",
    "for col in cat_cols:\n",
    "    enc = preprocessing.LabelEncoder()\n",
    "    all_data_cat[col] = enc.fit_transform(all_data_cat[col])\n",
    "    \n",
    "# all_data_cat = encode_cat_wit_mean(all_data_cat, cat_cols, data['prime_tot_ttc']) # Using data from test to compute means.\n",
    "# It's bed, should use only test"
   ]
  },
  {
   "cell_type": "markdown",
   "metadata": {},
   "source": [
    "## Merge datasets"
   ]
  },
  {
   "cell_type": "code",
   "execution_count": 9,
   "metadata": {
    "collapsed": false
   },
   "outputs": [],
   "source": [
    "all_data_ready = pd.concat([all_data_num, all_data_cat], axis=1, join_axes=[all_data_num.index])\n",
    "\n",
    "train_ready = all_data_ready[all_data['status']=='train']\n",
    "test_ready = all_data_ready[all_data['status']=='test']"
   ]
  },
  {
   "cell_type": "code",
   "execution_count": 9,
   "metadata": {
    "collapsed": false
   },
   "outputs": [
    {
     "data": {
      "text/html": [
       "<div>\n",
       "<table border=\"1\" class=\"dataframe\">\n",
       "  <thead>\n",
       "    <tr style=\"text-align: right;\">\n",
       "      <th></th>\n",
       "      <th>annee_naissance</th>\n",
       "      <th>annee_permis</th>\n",
       "      <th>puis_fiscale</th>\n",
       "      <th>anc_veh</th>\n",
       "      <th>kmage_annuel</th>\n",
       "      <th>crm</th>\n",
       "      <th>var1</th>\n",
       "      <th>var2</th>\n",
       "      <th>var3</th>\n",
       "      <th>var4</th>\n",
       "      <th>...</th>\n",
       "      <th>def_kmage_annuel</th>\n",
       "      <th>marque</th>\n",
       "      <th>energie_veh</th>\n",
       "      <th>profession</th>\n",
       "      <th>var6</th>\n",
       "      <th>var7</th>\n",
       "      <th>var8</th>\n",
       "      <th>var14</th>\n",
       "      <th>var16</th>\n",
       "      <th>model</th>\n",
       "    </tr>\n",
       "    <tr>\n",
       "      <th>id</th>\n",
       "      <th></th>\n",
       "      <th></th>\n",
       "      <th></th>\n",
       "      <th></th>\n",
       "      <th></th>\n",
       "      <th></th>\n",
       "      <th></th>\n",
       "      <th></th>\n",
       "      <th></th>\n",
       "      <th></th>\n",
       "      <th></th>\n",
       "      <th></th>\n",
       "      <th></th>\n",
       "      <th></th>\n",
       "      <th></th>\n",
       "      <th></th>\n",
       "      <th></th>\n",
       "      <th></th>\n",
       "      <th></th>\n",
       "      <th></th>\n",
       "      <th></th>\n",
       "    </tr>\n",
       "  </thead>\n",
       "  <tbody>\n",
       "    <tr>\n",
       "      <th>1</th>\n",
       "      <td>1986.0</td>\n",
       "      <td>2006.0</td>\n",
       "      <td>4</td>\n",
       "      <td>1</td>\n",
       "      <td>2924</td>\n",
       "      <td>68</td>\n",
       "      <td>10.0</td>\n",
       "      <td>1</td>\n",
       "      <td>372</td>\n",
       "      <td>0</td>\n",
       "      <td>...</td>\n",
       "      <td>1</td>\n",
       "      <td>81</td>\n",
       "      <td>4</td>\n",
       "      <td>9</td>\n",
       "      <td>0</td>\n",
       "      <td>1</td>\n",
       "      <td>1</td>\n",
       "      <td>7</td>\n",
       "      <td>1</td>\n",
       "      <td>81</td>\n",
       "    </tr>\n",
       "  </tbody>\n",
       "</table>\n",
       "<p>1 rows × 39 columns</p>\n",
       "</div>"
      ],
      "text/plain": [
       "    annee_naissance  annee_permis  puis_fiscale  anc_veh  kmage_annuel  crm  \\\n",
       "id                                                                            \n",
       "1            1986.0        2006.0             4        1          2924   68   \n",
       "\n",
       "    var1  var2  var3  var4  ...    def_kmage_annuel  marque  energie_veh  \\\n",
       "id                          ...                                            \n",
       "1   10.0     1   372     0  ...                   1      81            4   \n",
       "\n",
       "    profession  var6  var7  var8  var14  var16  model  \n",
       "id                                                     \n",
       "1            9     0     1     1      7      1     81  \n",
       "\n",
       "[1 rows x 39 columns]"
      ]
     },
     "execution_count": 9,
     "metadata": {},
     "output_type": "execute_result"
    }
   ],
   "source": [
    "train_ready.head(1)"
   ]
  },
  {
   "cell_type": "code",
   "execution_count": 10,
   "metadata": {
    "collapsed": false
   },
   "outputs": [
    {
     "data": {
      "text/html": [
       "<div>\n",
       "<table border=\"1\" class=\"dataframe\">\n",
       "  <thead>\n",
       "    <tr style=\"text-align: right;\">\n",
       "      <th></th>\n",
       "      <th>annee_naissance</th>\n",
       "      <th>annee_permis</th>\n",
       "      <th>puis_fiscale</th>\n",
       "      <th>anc_veh</th>\n",
       "      <th>kmage_annuel</th>\n",
       "      <th>crm</th>\n",
       "      <th>var1</th>\n",
       "      <th>var2</th>\n",
       "      <th>var3</th>\n",
       "      <th>var4</th>\n",
       "      <th>...</th>\n",
       "      <th>def_kmage_annuel</th>\n",
       "      <th>marque</th>\n",
       "      <th>energie_veh</th>\n",
       "      <th>profession</th>\n",
       "      <th>var6</th>\n",
       "      <th>var7</th>\n",
       "      <th>var8</th>\n",
       "      <th>var14</th>\n",
       "      <th>var16</th>\n",
       "      <th>model</th>\n",
       "    </tr>\n",
       "    <tr>\n",
       "      <th>id</th>\n",
       "      <th></th>\n",
       "      <th></th>\n",
       "      <th></th>\n",
       "      <th></th>\n",
       "      <th></th>\n",
       "      <th></th>\n",
       "      <th></th>\n",
       "      <th></th>\n",
       "      <th></th>\n",
       "      <th></th>\n",
       "      <th></th>\n",
       "      <th></th>\n",
       "      <th></th>\n",
       "      <th></th>\n",
       "      <th></th>\n",
       "      <th></th>\n",
       "      <th></th>\n",
       "      <th></th>\n",
       "      <th></th>\n",
       "      <th></th>\n",
       "      <th></th>\n",
       "    </tr>\n",
       "  </thead>\n",
       "  <tbody>\n",
       "    <tr>\n",
       "      <th>300001</th>\n",
       "      <td>1992.0</td>\n",
       "      <td>2011.0</td>\n",
       "      <td>4</td>\n",
       "      <td>2</td>\n",
       "      <td>2983</td>\n",
       "      <td>88</td>\n",
       "      <td>5.0</td>\n",
       "      <td>3</td>\n",
       "      <td>372</td>\n",
       "      <td>0</td>\n",
       "      <td>...</td>\n",
       "      <td>1</td>\n",
       "      <td>81</td>\n",
       "      <td>2</td>\n",
       "      <td>9</td>\n",
       "      <td>0</td>\n",
       "      <td>1</td>\n",
       "      <td>1</td>\n",
       "      <td>7</td>\n",
       "      <td>1</td>\n",
       "      <td>81</td>\n",
       "    </tr>\n",
       "  </tbody>\n",
       "</table>\n",
       "<p>1 rows × 39 columns</p>\n",
       "</div>"
      ],
      "text/plain": [
       "        annee_naissance  annee_permis  puis_fiscale  anc_veh  kmage_annuel  \\\n",
       "id                                                                           \n",
       "300001           1992.0        2011.0             4        2          2983   \n",
       "\n",
       "        crm  var1  var2  var3  var4  ...    def_kmage_annuel  marque  \\\n",
       "id                                   ...                               \n",
       "300001   88   5.0     3   372     0  ...                   1      81   \n",
       "\n",
       "        energie_veh  profession  var6  var7  var8  var14  var16  model  \n",
       "id                                                                      \n",
       "300001            2           9     0     1     1      7      1     81  \n",
       "\n",
       "[1 rows x 39 columns]"
      ]
     },
     "execution_count": 10,
     "metadata": {},
     "output_type": "execute_result"
    }
   ],
   "source": [
    "test_ready.head(1)"
   ]
  },
  {
   "cell_type": "markdown",
   "metadata": {},
   "source": [
    "# Models"
   ]
  },
  {
   "cell_type": "code",
   "execution_count": 10,
   "metadata": {
    "collapsed": false
   },
   "outputs": [],
   "source": [
    "target = data['prime_tot_ttc']\n",
    "\n",
    "# selector = train_ready['var18'] <= 25\n",
    "\n",
    "train_ready = train_ready#[selector]\n",
    "target = target#[selector]\n",
    "\n",
    "X_train, X_test, y_train, y_test = train_test_split(\n",
    "    train_ready, target, test_size=0.2, random_state=random_state)"
   ]
  },
  {
   "cell_type": "code",
   "execution_count": 26,
   "metadata": {
    "collapsed": false
   },
   "outputs": [
    {
     "name": "stdout",
     "output_type": "stream",
     "text": [
      "(0.2, 0.08871556633380355)\n",
      "(0.4, 0.08506223129136714)\n",
      "(0.6, 0.08348465779366274)\n",
      "(0.8, 0.08253706396971061)\n",
      "(0.9, 0.08223013482491622)\n",
      "0.0822301348249\n"
     ]
    }
   ],
   "source": [
    "import xgboost as xgb\n",
    "\n",
    "# n_trees = [100, 500]\n",
    "params = [0.2, 0.4, 0.6, 0.8, 0.9]\n",
    "\n",
    "# best_depth_param = 10, 11\n",
    "# min_child = doesn't matter, smaller-better\n",
    "# gamma - doesn't matter, 0.3, 1\n",
    "# subsample - doesn't matter, larger-better, 0.9\n",
    "\n",
    "scores = []\n",
    "for param in params:\n",
    "    clf = xgb.XGBRegressor(learning_rate=0.1,\n",
    "                           max_depth=10, # +\n",
    "                           n_estimators=500,\n",
    "                           min_child_weight=4, # +-\n",
    "                           gamma=1, # +-\n",
    "                           subsample = 0.9 # +-\n",
    "                          )\n",
    "#                            eta=param) # min_child_weight=5\n",
    "    clf.fit(X_train, y_train)\n",
    "    y_pred = clf.predict(X_test)\n",
    "    scores.append(metric(y_test, y_pred))\n",
    "    print(param, scores[-1])\n",
    "print(scores[-1])\n",
    "\n",
    "\n",
    "# 0.092993032576 on 500 trees\n",
    "# 0.0815606511063 for 1000 trees\n",
    "\n",
    "# 0.0846066648314 for 1000\n",
    "\n",
    "# 0.0830471295158 for 500 trees depth 8\n",
    "\n",
    "# 0.0862538537206\n",
    "\n",
    "# 0.0820335930568 all data, depth 8, 1000 trees"
   ]
  },
  {
   "cell_type": "code",
   "execution_count": 27,
   "metadata": {
    "collapsed": false
   },
   "outputs": [
    {
     "data": {
      "image/png": "[encoded data removed]",
      "text/plain": [
       "<matplotlib.figure.Figure at 0x1205a860>"
      ]
     },
     "metadata": {},
     "output_type": "display_data"
    }
   ],
   "source": [
    "plt.plot(params, scores)\n",
    "plt.show()\n",
    "\n",
    "# 0.100727960829"
   ]
  },
  {
   "cell_type": "code",
   "execution_count": 11,
   "metadata": {
    "collapsed": false
   },
   "outputs": [
    {
     "ename": "NameError",
     "evalue": "name 'scores' is not defined",
     "output_type": "error",
     "traceback": [
      "\u001b[1;31m---------------------------------------------------------------------------\u001b[0m",
      "\u001b[1;31mNameError\u001b[0m                                 Traceback (most recent call last)",
      "\u001b[1;32m<ipython-input-11-42c08a9a7420>\u001b[0m in \u001b[0;36m<module>\u001b[1;34m()\u001b[0m\n\u001b[0;32m      8\u001b[0m \u001b[0mclf\u001b[0m\u001b[1;33m.\u001b[0m\u001b[0mfit\u001b[0m\u001b[1;33m(\u001b[0m\u001b[0mX_train\u001b[0m\u001b[1;33m,\u001b[0m \u001b[0my_train\u001b[0m\u001b[1;33m)\u001b[0m\u001b[1;33m\u001b[0m\u001b[0m\n\u001b[0;32m      9\u001b[0m \u001b[0my_pred\u001b[0m \u001b[1;33m=\u001b[0m \u001b[0mclf\u001b[0m\u001b[1;33m.\u001b[0m\u001b[0mpredict\u001b[0m\u001b[1;33m(\u001b[0m\u001b[0mX_test\u001b[0m\u001b[1;33m)\u001b[0m\u001b[1;33m\u001b[0m\u001b[0m\n\u001b[1;32m---> 10\u001b[1;33m \u001b[0mscores\u001b[0m\u001b[1;33m.\u001b[0m\u001b[0mappend\u001b[0m\u001b[1;33m(\u001b[0m\u001b[0mmetric\u001b[0m\u001b[1;33m(\u001b[0m\u001b[0my_test\u001b[0m\u001b[1;33m,\u001b[0m \u001b[0my_pred\u001b[0m\u001b[1;33m)\u001b[0m\u001b[1;33m)\u001b[0m\u001b[1;33m\u001b[0m\u001b[0m\n\u001b[0m",
      "\u001b[1;31mNameError\u001b[0m: name 'scores' is not defined"
     ]
    }
   ],
   "source": [
    "clf = xgb.XGBRegressor(learning_rate=0.1,\n",
    "                       max_depth=10, # +\n",
    "                       n_estimators=1000,\n",
    "                       min_child_weight=4, # +-\n",
    "                       gamma=1, # +-\n",
    "                       subsample = 0.9 # +-\n",
    "                      )\n",
    "clf.fit(X_train, y_train)\n",
    "y_pred = clf.predict(X_test)\n",
    "# scores.append(metric(y_test, y_pred))\n",
    "print(metric(y_test, y_pred))"
   ]
  },
  {
   "cell_type": "code",
   "execution_count": 12,
   "metadata": {
    "collapsed": false
   },
   "outputs": [
    {
     "data": {
      "text/plain": [
       "0.08357011077887534"
      ]
     },
     "execution_count": 12,
     "metadata": {},
     "output_type": "execute_result"
    }
   ],
   "source": [
    "metric(y_test, y_pred)\n",
    "\n",
    "# 0.0814636605787"
   ]
  },
  {
   "cell_type": "code",
   "execution_count": 30,
   "metadata": {
    "collapsed": false
   },
   "outputs": [],
   "source": [
    "# Test submit\n",
    "\n",
    "# test_data_num = test_data[num_cols]\n",
    "# test_data_num.fillna(0, inplace=True)\n",
    "# test_data_num = prepare_num_data(test_data_num)\n",
    "real_pred = clf.predict(test_ready)\n",
    "\n",
    "ans = pd.DataFrame()\n",
    "ans['id'] = test_data.index.copy()\n",
    "ans['prime_tot_ttc'] = real_pred\n",
    "\n",
    "ans.to_csv('test_ans.csv', index=False, sep=';')"
   ]
  },
  {
   "cell_type": "markdown",
   "metadata": {},
   "source": [
    "## Dealing with Categorical variables"
   ]
  },
  {
   "cell_type": "code",
   "execution_count": 7,
   "metadata": {
    "collapsed": false
   },
   "outputs": [
    {
     "data": {
      "text/html": [
       "<div>\n",
       "<table border=\"1\" class=\"dataframe\">\n",
       "  <thead>\n",
       "    <tr style=\"text-align: right;\">\n",
       "      <th></th>\n",
       "      <th>marque</th>\n",
       "      <th>energie_veh</th>\n",
       "      <th>profession</th>\n",
       "      <th>var6</th>\n",
       "      <th>var7</th>\n",
       "      <th>var8</th>\n",
       "      <th>var14</th>\n",
       "      <th>var16</th>\n",
       "    </tr>\n",
       "    <tr>\n",
       "      <th>id</th>\n",
       "      <th></th>\n",
       "      <th></th>\n",
       "      <th></th>\n",
       "      <th></th>\n",
       "      <th></th>\n",
       "      <th></th>\n",
       "      <th></th>\n",
       "      <th></th>\n",
       "    </tr>\n",
       "  </thead>\n",
       "  <tbody>\n",
       "    <tr>\n",
       "      <th>1</th>\n",
       "      <td>80</td>\n",
       "      <td>4</td>\n",
       "      <td>9</td>\n",
       "      <td>0</td>\n",
       "      <td>1</td>\n",
       "      <td>1</td>\n",
       "      <td>7</td>\n",
       "      <td>1</td>\n",
       "    </tr>\n",
       "    <tr>\n",
       "      <th>2</th>\n",
       "      <td>80</td>\n",
       "      <td>4</td>\n",
       "      <td>9</td>\n",
       "      <td>1</td>\n",
       "      <td>15</td>\n",
       "      <td>4</td>\n",
       "      <td>7</td>\n",
       "      <td>1</td>\n",
       "    </tr>\n",
       "  </tbody>\n",
       "</table>\n",
       "</div>"
      ],
      "text/plain": [
       "    marque  energie_veh  profession  var6  var7  var8  var14  var16\n",
       "id                                                                 \n",
       "1       80            4           9     0     1     1      7      1\n",
       "2       80            4           9     1    15     4      7      1"
      ]
     },
     "execution_count": 7,
     "metadata": {},
     "output_type": "execute_result"
    }
   ],
   "source": [
    "data_cat.head(2)"
   ]
  },
  {
   "cell_type": "code",
   "execution_count": 91,
   "metadata": {
    "collapsed": false
   },
   "outputs": [
    {
     "data": {
      "text/html": [
       "<div>\n",
       "<table border=\"1\" class=\"dataframe\">\n",
       "  <thead>\n",
       "    <tr style=\"text-align: right;\">\n",
       "      <th></th>\n",
       "      <th>marque</th>\n",
       "      <th>energie_veh</th>\n",
       "      <th>profession</th>\n",
       "      <th>var6</th>\n",
       "      <th>var7</th>\n",
       "      <th>var8</th>\n",
       "      <th>var14</th>\n",
       "      <th>var16</th>\n",
       "    </tr>\n",
       "    <tr>\n",
       "      <th>id</th>\n",
       "      <th></th>\n",
       "      <th></th>\n",
       "      <th></th>\n",
       "      <th></th>\n",
       "      <th></th>\n",
       "      <th></th>\n",
       "      <th></th>\n",
       "      <th></th>\n",
       "    </tr>\n",
       "  </thead>\n",
       "  <tbody>\n",
       "    <tr>\n",
       "      <th>1</th>\n",
       "      <td>117</td>\n",
       "      <td>4</td>\n",
       "      <td>9</td>\n",
       "      <td>0</td>\n",
       "      <td>1</td>\n",
       "      <td>1</td>\n",
       "      <td>7</td>\n",
       "      <td>1</td>\n",
       "    </tr>\n",
       "    <tr>\n",
       "      <th>2</th>\n",
       "      <td>117</td>\n",
       "      <td>4</td>\n",
       "      <td>9</td>\n",
       "      <td>1</td>\n",
       "      <td>15</td>\n",
       "      <td>4</td>\n",
       "      <td>7</td>\n",
       "      <td>1</td>\n",
       "    </tr>\n",
       "  </tbody>\n",
       "</table>\n",
       "</div>"
      ],
      "text/plain": [
       "    marque  energie_veh  profession  var6  var7  var8  var14  var16\n",
       "id                                                                 \n",
       "1      117            4           9     0     1     1      7      1\n",
       "2      117            4           9     1    15     4      7      1"
      ]
     },
     "execution_count": 91,
     "metadata": {},
     "output_type": "execute_result"
    }
   ],
   "source": [
    "data_cat.head(2)"
   ]
  },
  {
   "cell_type": "markdown",
   "metadata": {},
   "source": [
    "## XGB Tests"
   ]
  },
  {
   "cell_type": "code",
   "execution_count": 14,
   "metadata": {
    "collapsed": true
   },
   "outputs": [],
   "source": [
    "# train = train.drop(['ID','target'],axis=1)\n",
    "# test = pd.read_csv(\"test.csv\")\n",
    "# test = test.drop(['ID'],axis=1)\n",
    "\n",
    "xgtrain = xgb.DMatrix(train_ready.values, target.values)\n",
    "xgtest = xgb.DMatrix(test_ready.values)"
   ]
  },
  {
   "cell_type": "code",
   "execution_count": 24,
   "metadata": {
    "collapsed": false
   },
   "outputs": [
    {
     "name": "stdout",
     "output_type": "stream",
     "text": [
      "running cross validation\n"
     ]
    },
    {
     "data": {
      "text/html": [
       "<div>\n",
       "<table border=\"1\" class=\"dataframe\">\n",
       "  <thead>\n",
       "    <tr style=\"text-align: right;\">\n",
       "      <th></th>\n",
       "      <th>test-error-mean</th>\n",
       "      <th>test-error-std</th>\n",
       "      <th>train-error-mean</th>\n",
       "      <th>train-error-std</th>\n",
       "    </tr>\n",
       "  </thead>\n",
       "  <tbody>\n",
       "    <tr>\n",
       "      <th>0</th>\n",
       "      <td>-345.803357</td>\n",
       "      <td>0.978728</td>\n",
       "      <td>-345.803357</td>\n",
       "      <td>0.244684</td>\n",
       "    </tr>\n",
       "    <tr>\n",
       "      <th>1</th>\n",
       "      <td>-345.803357</td>\n",
       "      <td>0.978728</td>\n",
       "      <td>-345.803357</td>\n",
       "      <td>0.244684</td>\n",
       "    </tr>\n",
       "    <tr>\n",
       "      <th>2</th>\n",
       "      <td>-345.803357</td>\n",
       "      <td>0.978728</td>\n",
       "      <td>-345.803357</td>\n",
       "      <td>0.244684</td>\n",
       "    </tr>\n",
       "    <tr>\n",
       "      <th>3</th>\n",
       "      <td>-345.803357</td>\n",
       "      <td>0.978728</td>\n",
       "      <td>-345.803357</td>\n",
       "      <td>0.244684</td>\n",
       "    </tr>\n",
       "    <tr>\n",
       "      <th>4</th>\n",
       "      <td>-345.803357</td>\n",
       "      <td>0.978728</td>\n",
       "      <td>-345.803357</td>\n",
       "      <td>0.244684</td>\n",
       "    </tr>\n",
       "  </tbody>\n",
       "</table>\n",
       "</div>"
      ],
      "text/plain": [
       "   test-error-mean  test-error-std  train-error-mean  train-error-std\n",
       "0      -345.803357        0.978728       -345.803357         0.244684\n",
       "1      -345.803357        0.978728       -345.803357         0.244684\n",
       "2      -345.803357        0.978728       -345.803357         0.244684\n",
       "3      -345.803357        0.978728       -345.803357         0.244684\n",
       "4      -345.803357        0.978728       -345.803357         0.244684"
      ]
     },
     "execution_count": 24,
     "metadata": {},
     "output_type": "execute_result"
    }
   ],
   "source": [
    "dtrain = xgtrain #xgb.DMatrix('../data/agaricus.txt.train')\n",
    "\n",
    "n_tree = 300\n",
    "param = {'max_depth':5, 'eta':1, 'silent':0, 'objective':'reg:linear',\n",
    "         'learning_rate':0.1, 'n_estimators':n_tree}\n",
    "num_round = 5\n",
    "\n",
    "print ('running cross validation')\n",
    "# do cross validation, this will print result out as\n",
    "# [iteration]  metric_name:mean_value+std_value\n",
    "# std_value is standard deviation of the metric\n",
    "xgb.cv(param, dtrain, num_round, nfold=5,\n",
    "       metrics={'error'}, seed = random_state) #  feval=metric"
   ]
  },
  {
   "cell_type": "code",
   "execution_count": 37,
   "metadata": {
    "collapsed": true
   },
   "outputs": [],
   "source": [
    "def custom_scorer(est, X, y):\n",
    "    pred = est.predict(X)\n",
    "    return metric(y, pred)\n",
    "#     scorer(estimator, X, y)"
   ]
  },
  {
   "cell_type": "code",
   "execution_count": 39,
   "metadata": {
    "collapsed": false
   },
   "outputs": [
    {
     "data": {
      "text/plain": [
       "([mean: 0.08954, std: 0.00010, params: {'max_depth': 5, 'min_child_weight': 1},\n",
       "  mean: 0.08978, std: 0.00011, params: {'max_depth': 5, 'min_child_weight': 3},\n",
       "  mean: 0.08979, std: 0.00009, params: {'max_depth': 5, 'min_child_weight': 5},\n",
       "  mean: 0.08704, std: 0.00013, params: {'max_depth': 7, 'min_child_weight': 1},\n",
       "  mean: 0.08704, std: 0.00029, params: {'max_depth': 7, 'min_child_weight': 3},\n",
       "  mean: 0.08716, std: 0.00016, params: {'max_depth': 7, 'min_child_weight': 5},\n",
       "  mean: 0.08669, std: 0.00030, params: {'max_depth': 8, 'min_child_weight': 1},\n",
       "  mean: 0.08658, std: 0.00019, params: {'max_depth': 8, 'min_child_weight': 3},\n",
       "  mean: 0.08673, std: 0.00018, params: {'max_depth': 8, 'min_child_weight': 5},\n",
       "  mean: 0.08714, std: 0.00019, params: {'max_depth': 10, 'min_child_weight': 1},\n",
       "  mean: 0.08709, std: 0.00015, params: {'max_depth': 10, 'min_child_weight': 3},\n",
       "  mean: 0.08705, std: 0.00014, params: {'max_depth': 10, 'min_child_weight': 5},\n",
       "  mean: 0.08895, std: 0.00027, params: {'max_depth': 12, 'min_child_weight': 1},\n",
       "  mean: 0.08858, std: 0.00025, params: {'max_depth': 12, 'min_child_weight': 3},\n",
       "  mean: 0.08842, std: 0.00006, params: {'max_depth': 12, 'min_child_weight': 5}],\n",
       " {'max_depth': 5, 'min_child_weight': 5},\n",
       " 0.08979440908463292)"
      ]
     },
     "execution_count": 39,
     "metadata": {},
     "output_type": "execute_result"
    }
   ],
   "source": [
    "param_grid = {\n",
    "    'max_depth':[5, 7, 8, 10, 12], \n",
    "    'min_child_weight':range(1, 6, 2)\n",
    "}\n",
    "\n",
    "n_tree = 200\n",
    "\n",
    "clf_grid = GridSearchCV(estimator = xgb.XGBRegressor(learning_rate=0.1, max_depth=5, n_estimators=n_tree),\n",
    "                       param_grid=param_grid,\n",
    "                       scoring=custom_scorer)\n",
    "    \n",
    "    \n",
    "#     estimator = xgb.XGBRegressor(learning_rate =0.1, n_estimators=140, max_depth=5,\n",
    "#     min_child_weight=1, gamma=0, subsample=0.8, colsample_bytree=0.8,\n",
    "#     objective= 'binary:logistic', nthread=4, scale_pos_weight=1, seed=27), \n",
    "#     param_grid = param_test1, scoring='roc_auc',n_jobs=4, iid=False, cv=5)\n",
    "clf_grid.fit(X_train, y_train)\n",
    "clf_grid.grid_scores_, clf_grid.best_params_, clf_grid.best_score_"
   ]
  },
  {
   "cell_type": "code",
   "execution_count": 40,
   "metadata": {
    "collapsed": false
   },
   "outputs": [
    {
     "data": {
      "text/plain": [
       "0.08916771891954851"
      ]
     },
     "execution_count": 40,
     "metadata": {},
     "output_type": "execute_result"
    }
   ],
   "source": [
    "y_pred = clf_grid.predict(X_test)\n",
    "metric(y_test, y_pred)\n",
    "# 0.08519713562247139"
   ]
  },
  {
   "cell_type": "code",
   "execution_count": 41,
   "metadata": {
    "collapsed": true
   },
   "outputs": [],
   "source": [
    "clf = clf_grid"
   ]
  }
 ],
 "metadata": {
  "kernelspec": {
   "display_name": "Python 2",
   "language": "python",
   "name": "python2"
  },
  "language_info": {
   "codemirror_mode": {
    "name": "ipython",
    "version": 2
   },
   "file_extension": ".py",
   "mimetype": "text/x-python",
   "name": "python",
   "nbconvert_exporter": "python",
   "pygments_lexer": "ipython2",
   "version": "2.7.11"
  }
 },
 "nbformat": 4,
 "nbformat_minor": 0
}
