{
 "cells": [
  {
   "cell_type": "code",
   "execution_count": 15,
   "metadata": {
    "collapsed": true
   },
   "outputs": [],
   "source": [
    "# ToDo:\n",
    "# 1. cut post codes to first 2 digits +\n",
    "# 2. move all rare cars to separate category (rare < 5 mark records) +\n",
    "# 3. convert categorical variables with onehot/labelencoding +\n",
    "# 4. add indicator variables for default variables +\n",
    "# 5. Drop correlated features\n",
    "# 6. Set type of all categorical coll to categorical\n",
    "\n",
    "# Maybe:\n",
    "# 1. Remove from train data records that can't be in test (marque of cars, regions)"
   ]
  },
  {
   "cell_type": "code",
   "execution_count": 16,
   "metadata": {
    "collapsed": false
   },
   "outputs": [],
   "source": [
    "import pandas as pd\n",
    "import numpy as np\n",
    "import matplotlib.pyplot as plt\n",
    "from sklearn.metrics import log_loss\n",
    "from sklearn.cross_validation import train_test_split\n",
    "from sklearn.preprocessing import normalize\n",
    "from sklearn.grid_search import GridSearchCV\n",
    "\n",
    "from sklearn.ensemble import RandomForestClassifier\n",
    "from sklearn.linear_model import LinearRegression\n",
    "\n",
    "from sklearn import preprocessing\n",
    "from sklearn.feature_extraction import DictVectorizer as DV\n",
    "from sklearn.metrics import accuracy_score\n",
    "\n",
    "import xgboost as xgb\n",
    "\n",
    "%matplotlib inline\n",
    "plt.style.use('ggplot')\n",
    "random_state = 42"
   ]
  },
  {
   "cell_type": "code",
   "execution_count": 17,
   "metadata": {
    "collapsed": false
   },
   "outputs": [],
   "source": [
    "num_cols = ['annee_naissance', 'annee_permis', 'puis_fiscale', 'anc_veh', 'kmage_annuel', 'crm', 'var1', 'var2', 'var3', \\\n",
    "            'var4', 'var5', 'var9', 'var10', 'var11', 'var12', 'var13', 'var15', 'var17', 'var18', 'var19', 'var20', \\\n",
    "            'var21', 'var22', 'codepostal']\n",
    "cat_cols = ['marque', 'energie_veh', 'profession', 'var6', 'var7', 'var8', 'var14', 'var16']\n",
    "unused = []\n",
    "\n",
    "\n",
    "def metric(y_true, y_pred):\n",
    "    return np.mean(np.abs((y_true - y_pred) / y_true))\n",
    "\n",
    "\n",
    "def prepare_data(df):\n",
    "    # TODO: Find better way to deal NaN variables\n",
    "    df.fillna(0, inplace=True)\n",
    "    \n",
    "    # codepostal\n",
    "    # 1. Replace char records to 0\n",
    "    # 2. Replace post codes to first 2 digits\n",
    "    # 3. Convert to categorical type ???\n",
    "    df['codepostal'] = df['codepostal'].apply(lambda it: 0 if not str(it).isdigit() else it)\n",
    "    df['codepostal'] = df['codepostal'].apply(lambda it: int(str(it)[:2]))\n",
    "#     df['codepostal'] = df['codepostal'].astype('category')\n",
    "    \n",
    "    # drop correlated features\n",
    "#     features_to_drop = ['']\n",
    "\n",
    "    # add indicator variables for default variables\n",
    "    \n",
    "    df['def_anc_veh'] = df['anc_veh'].apply(lambda it: 1 if it==99 else 0)\n",
    "    df['def_var9'] = df['var9'].apply(lambda it: 1 if it==0 else 0)\n",
    "    df['def_var10'] = df['var10'].apply(lambda it: 1 if it==0 else 0)\n",
    "    df['def_var11'] = df['var11'].apply(lambda it: 1 if it==99 else 0)\n",
    "    df['def_var12'] = df['var12'].apply(lambda it: 1 if it==3211 else 0)\n",
    "    \n",
    "    df['def_kmage_annuel'] = df['kmage_annuel'].apply(lambda it: 1 if it<17000 else 0)\n",
    "    \n",
    "    # test items\n",
    "#     df[df['kmage_annuel']<17000]['def_kmage_annuel'] = 3\n",
    "#     df[df['kmage_annuel']<10000]['def_kmage_annuel'] = 2\n",
    "#     df[df['kmage_annuel']<5000]['def_kmage_annuel'] = 1\n",
    "#     df['def_var18_less'] = df['var18'].apply(lambda it: 1 if it < 20 else 0)\n",
    "    \n",
    "#     df['puis_fiscale_sqrt'] = np.sqrt(df['puis_fiscale'])\n",
    "#     df['puis_fiscale_sq'] = np.square(df['puis_fiscale'])\n",
    "    \n",
    "    return df\n",
    "\n",
    "def prepare_num_data(df):\n",
    "    return preprocessing.scale(df)"
   ]
  },
  {
   "cell_type": "code",
   "execution_count": 18,
   "metadata": {
    "collapsed": false
   },
   "outputs": [],
   "source": [
    "data = pd.read_csv('./data/ech_apprentissage.csv', sep=';', index_col='id')\n",
    "test_data = pd.read_csv('./data/ech_test.csv', sep=';', index_col='id')\n",
    "\n",
    "data_num = data[num_cols]\n",
    "test_data_num = test_data[num_cols]\n",
    "\n",
    "data_cat = data[cat_cols]\n",
    "test_data_cat = test_data[cat_cols]"
   ]
  },
  {
   "cell_type": "markdown",
   "metadata": {},
   "source": [
    "## Prepare numerical variables"
   ]
  },
  {
   "cell_type": "code",
   "execution_count": 19,
   "metadata": {
    "collapsed": false
   },
   "outputs": [
    {
     "name": "stderr",
     "output_type": "stream",
     "text": [
      "D:\\soft\\dev\\anaconda\\lib\\site-packages\\IPython\\kernel\\__main__.py:18: SettingWithCopyWarning: \n",
      "A value is trying to be set on a copy of a slice from a DataFrame.\n",
      "Try using .loc[row_indexer,col_indexer] = value instead\n",
      "\n",
      "See the caveats in the documentation: http://pandas.pydata.org/pandas-docs/stable/indexing.html#indexing-view-versus-copy\n",
      "D:\\soft\\dev\\anaconda\\lib\\site-packages\\IPython\\kernel\\__main__.py:19: SettingWithCopyWarning: \n",
      "A value is trying to be set on a copy of a slice from a DataFrame.\n",
      "Try using .loc[row_indexer,col_indexer] = value instead\n",
      "\n",
      "See the caveats in the documentation: http://pandas.pydata.org/pandas-docs/stable/indexing.html#indexing-view-versus-copy\n",
      "D:\\soft\\dev\\anaconda\\lib\\site-packages\\IPython\\kernel\\__main__.py:27: SettingWithCopyWarning: \n",
      "A value is trying to be set on a copy of a slice from a DataFrame.\n",
      "Try using .loc[row_indexer,col_indexer] = value instead\n",
      "\n",
      "See the caveats in the documentation: http://pandas.pydata.org/pandas-docs/stable/indexing.html#indexing-view-versus-copy\n",
      "D:\\soft\\dev\\anaconda\\lib\\site-packages\\IPython\\kernel\\__main__.py:28: SettingWithCopyWarning: \n",
      "A value is trying to be set on a copy of a slice from a DataFrame.\n",
      "Try using .loc[row_indexer,col_indexer] = value instead\n",
      "\n",
      "See the caveats in the documentation: http://pandas.pydata.org/pandas-docs/stable/indexing.html#indexing-view-versus-copy\n",
      "D:\\soft\\dev\\anaconda\\lib\\site-packages\\IPython\\kernel\\__main__.py:29: SettingWithCopyWarning: \n",
      "A value is trying to be set on a copy of a slice from a DataFrame.\n",
      "Try using .loc[row_indexer,col_indexer] = value instead\n",
      "\n",
      "See the caveats in the documentation: http://pandas.pydata.org/pandas-docs/stable/indexing.html#indexing-view-versus-copy\n",
      "D:\\soft\\dev\\anaconda\\lib\\site-packages\\IPython\\kernel\\__main__.py:30: SettingWithCopyWarning: \n",
      "A value is trying to be set on a copy of a slice from a DataFrame.\n",
      "Try using .loc[row_indexer,col_indexer] = value instead\n",
      "\n",
      "See the caveats in the documentation: http://pandas.pydata.org/pandas-docs/stable/indexing.html#indexing-view-versus-copy\n",
      "D:\\soft\\dev\\anaconda\\lib\\site-packages\\IPython\\kernel\\__main__.py:31: SettingWithCopyWarning: \n",
      "A value is trying to be set on a copy of a slice from a DataFrame.\n",
      "Try using .loc[row_indexer,col_indexer] = value instead\n",
      "\n",
      "See the caveats in the documentation: http://pandas.pydata.org/pandas-docs/stable/indexing.html#indexing-view-versus-copy\n",
      "D:\\soft\\dev\\anaconda\\lib\\site-packages\\IPython\\kernel\\__main__.py:33: SettingWithCopyWarning: \n",
      "A value is trying to be set on a copy of a slice from a DataFrame.\n",
      "Try using .loc[row_indexer,col_indexer] = value instead\n",
      "\n",
      "See the caveats in the documentation: http://pandas.pydata.org/pandas-docs/stable/indexing.html#indexing-view-versus-copy\n",
      "D:\\soft\\dev\\anaconda\\lib\\site-packages\\IPython\\kernel\\__main__.py:36: SettingWithCopyWarning: \n",
      "A value is trying to be set on a copy of a slice from a DataFrame.\n",
      "Try using .loc[row_indexer,col_indexer] = value instead\n",
      "\n",
      "See the caveats in the documentation: http://pandas.pydata.org/pandas-docs/stable/indexing.html#indexing-view-versus-copy\n",
      "D:\\soft\\dev\\anaconda\\lib\\site-packages\\IPython\\kernel\\__main__.py:37: SettingWithCopyWarning: \n",
      "A value is trying to be set on a copy of a slice from a DataFrame.\n",
      "Try using .loc[row_indexer,col_indexer] = value instead\n",
      "\n",
      "See the caveats in the documentation: http://pandas.pydata.org/pandas-docs/stable/indexing.html#indexing-view-versus-copy\n",
      "D:\\soft\\dev\\anaconda\\lib\\site-packages\\IPython\\kernel\\__main__.py:38: SettingWithCopyWarning: \n",
      "A value is trying to be set on a copy of a slice from a DataFrame.\n",
      "Try using .loc[row_indexer,col_indexer] = value instead\n",
      "\n",
      "See the caveats in the documentation: http://pandas.pydata.org/pandas-docs/stable/indexing.html#indexing-view-versus-copy\n",
      "D:\\soft\\dev\\anaconda\\lib\\site-packages\\IPython\\kernel\\__main__.py:39: SettingWithCopyWarning: \n",
      "A value is trying to be set on a copy of a slice from a DataFrame.\n",
      "Try using .loc[row_indexer,col_indexer] = value instead\n",
      "\n",
      "See the caveats in the documentation: http://pandas.pydata.org/pandas-docs/stable/indexing.html#indexing-view-versus-copy\n",
      "D:\\soft\\dev\\anaconda\\lib\\site-packages\\IPython\\kernel\\__main__.py:41: SettingWithCopyWarning: \n",
      "A value is trying to be set on a copy of a slice from a DataFrame.\n",
      "Try using .loc[row_indexer,col_indexer] = value instead\n",
      "\n",
      "See the caveats in the documentation: http://pandas.pydata.org/pandas-docs/stable/indexing.html#indexing-view-versus-copy\n"
     ]
    }
   ],
   "source": [
    "data_num = prepare_data(data_num)\n",
    "test_data_num = prepare_data(test_data_num)"
   ]
  },
  {
   "cell_type": "markdown",
   "metadata": {},
   "source": [
    "## Prepare categorical variables"
   ]
  },
  {
   "cell_type": "code",
   "execution_count": 20,
   "metadata": {
    "collapsed": false
   },
   "outputs": [
    {
     "name": "stderr",
     "output_type": "stream",
     "text": [
      "D:\\soft\\dev\\anaconda\\lib\\site-packages\\IPython\\kernel\\__main__.py:11: SettingWithCopyWarning: \n",
      "A value is trying to be set on a copy of a slice from a DataFrame.\n",
      "Try using .loc[row_indexer,col_indexer] = value instead\n",
      "\n",
      "See the caveats in the documentation: http://pandas.pydata.org/pandas-docs/stable/indexing.html#indexing-view-versus-copy\n",
      "D:\\soft\\dev\\anaconda\\lib\\site-packages\\IPython\\kernel\\__main__.py:13: SettingWithCopyWarning: \n",
      "A value is trying to be set on a copy of a slice from a DataFrame.\n",
      "Try using .loc[row_indexer,col_indexer] = value instead\n",
      "\n",
      "See the caveats in the documentation: http://pandas.pydata.org/pandas-docs/stable/indexing.html#indexing-view-versus-copy\n",
      "D:\\soft\\dev\\anaconda\\lib\\site-packages\\IPython\\kernel\\__main__.py:19: SettingWithCopyWarning: \n",
      "A value is trying to be set on a copy of a slice from a DataFrame.\n",
      "Try using .loc[row_indexer,col_indexer] = value instead\n",
      "\n",
      "See the caveats in the documentation: http://pandas.pydata.org/pandas-docs/stable/indexing.html#indexing-view-versus-copy\n",
      "D:\\soft\\dev\\anaconda\\lib\\site-packages\\IPython\\kernel\\__main__.py:20: SettingWithCopyWarning: \n",
      "A value is trying to be set on a copy of a slice from a DataFrame.\n",
      "Try using .loc[row_indexer,col_indexer] = value instead\n",
      "\n",
      "See the caveats in the documentation: http://pandas.pydata.org/pandas-docs/stable/indexing.html#indexing-view-versus-copy\n"
     ]
    }
   ],
   "source": [
    "# marque\n",
    "# Saving rare marks from train to use it in test and\n",
    "rare_car_border = 5\n",
    "marks_count = data['marque'].value_counts()\n",
    "rare_marks = list(marks_count[marks_count < rare_car_border].keys())\n",
    "# marks from test that not in train\n",
    "rare_marks.append('GEELY')\n",
    "rare_marks.append('SOVAM')\n",
    "\n",
    "data_cat['marque'] = data_cat['marque'].apply(\n",
    "    lambda it: it if it not in rare_marks else 'RARE')\n",
    "test_data_cat['marque'] = test_data_cat['marque'].apply(\n",
    "    lambda it: it if it not in rare_marks else 'RARE')\n",
    "\n",
    "# Label encoding\n",
    "encoders = {}\n",
    "for col in data_cat:\n",
    "    encoders[col] = preprocessing.LabelEncoder()\n",
    "    data_cat[col] = encoders[col].fit_transform(data_cat[col])\n",
    "    test_data_cat[col] = encoders[col].transform(test_data_cat[col])"
   ]
  },
  {
   "cell_type": "markdown",
   "metadata": {},
   "source": [
    "## Merge datasets"
   ]
  },
  {
   "cell_type": "code",
   "execution_count": 21,
   "metadata": {
    "collapsed": false
   },
   "outputs": [],
   "source": [
    "train_ready = pd.concat([data_num, data_cat], axis=1, join_axes=[data_num.index])\n",
    "test_ready = pd.concat([test_data_num, test_data_cat], axis=1, join_axes=[test_data_num.index])"
   ]
  },
  {
   "cell_type": "code",
   "execution_count": 22,
   "metadata": {
    "collapsed": false
   },
   "outputs": [
    {
     "data": {
      "text/html": [
       "<div>\n",
       "<table border=\"1\" class=\"dataframe\">\n",
       "  <thead>\n",
       "    <tr style=\"text-align: right;\">\n",
       "      <th></th>\n",
       "      <th>annee_naissance</th>\n",
       "      <th>annee_permis</th>\n",
       "      <th>puis_fiscale</th>\n",
       "      <th>anc_veh</th>\n",
       "      <th>kmage_annuel</th>\n",
       "      <th>crm</th>\n",
       "      <th>var1</th>\n",
       "      <th>var2</th>\n",
       "      <th>var3</th>\n",
       "      <th>var4</th>\n",
       "      <th>...</th>\n",
       "      <th>puis_fiscale_sqrt</th>\n",
       "      <th>puis_fiscale_sq</th>\n",
       "      <th>marque</th>\n",
       "      <th>energie_veh</th>\n",
       "      <th>profession</th>\n",
       "      <th>var6</th>\n",
       "      <th>var7</th>\n",
       "      <th>var8</th>\n",
       "      <th>var14</th>\n",
       "      <th>var16</th>\n",
       "    </tr>\n",
       "    <tr>\n",
       "      <th>id</th>\n",
       "      <th></th>\n",
       "      <th></th>\n",
       "      <th></th>\n",
       "      <th></th>\n",
       "      <th></th>\n",
       "      <th></th>\n",
       "      <th></th>\n",
       "      <th></th>\n",
       "      <th></th>\n",
       "      <th></th>\n",
       "      <th></th>\n",
       "      <th></th>\n",
       "      <th></th>\n",
       "      <th></th>\n",
       "      <th></th>\n",
       "      <th></th>\n",
       "      <th></th>\n",
       "      <th></th>\n",
       "      <th></th>\n",
       "      <th></th>\n",
       "      <th></th>\n",
       "    </tr>\n",
       "  </thead>\n",
       "  <tbody>\n",
       "    <tr>\n",
       "      <th>1</th>\n",
       "      <td>1986.0</td>\n",
       "      <td>2006.0</td>\n",
       "      <td>4</td>\n",
       "      <td>1</td>\n",
       "      <td>2924</td>\n",
       "      <td>68</td>\n",
       "      <td>10.0</td>\n",
       "      <td>1</td>\n",
       "      <td>372</td>\n",
       "      <td>0</td>\n",
       "      <td>...</td>\n",
       "      <td>2.0</td>\n",
       "      <td>16</td>\n",
       "      <td>80</td>\n",
       "      <td>4</td>\n",
       "      <td>9</td>\n",
       "      <td>0</td>\n",
       "      <td>1</td>\n",
       "      <td>1</td>\n",
       "      <td>7</td>\n",
       "      <td>1</td>\n",
       "    </tr>\n",
       "  </tbody>\n",
       "</table>\n",
       "<p>1 rows × 41 columns</p>\n",
       "</div>"
      ],
      "text/plain": [
       "    annee_naissance  annee_permis  puis_fiscale  anc_veh  kmage_annuel  crm  \\\n",
       "id                                                                            \n",
       "1            1986.0        2006.0             4        1          2924   68   \n",
       "\n",
       "    var1  var2  var3  var4  ...    puis_fiscale_sqrt  puis_fiscale_sq  marque  \\\n",
       "id                          ...                                                 \n",
       "1   10.0     1   372     0  ...                  2.0               16      80   \n",
       "\n",
       "    energie_veh  profession  var6  var7  var8  var14  var16  \n",
       "id                                                           \n",
       "1             4           9     0     1     1      7      1  \n",
       "\n",
       "[1 rows x 41 columns]"
      ]
     },
     "execution_count": 22,
     "metadata": {},
     "output_type": "execute_result"
    }
   ],
   "source": [
    "train_ready.head(1)"
   ]
  },
  {
   "cell_type": "code",
   "execution_count": 23,
   "metadata": {
    "collapsed": false
   },
   "outputs": [
    {
     "data": {
      "text/html": [
       "<div>\n",
       "<table border=\"1\" class=\"dataframe\">\n",
       "  <thead>\n",
       "    <tr style=\"text-align: right;\">\n",
       "      <th></th>\n",
       "      <th>annee_naissance</th>\n",
       "      <th>annee_permis</th>\n",
       "      <th>puis_fiscale</th>\n",
       "      <th>anc_veh</th>\n",
       "      <th>kmage_annuel</th>\n",
       "      <th>crm</th>\n",
       "      <th>var1</th>\n",
       "      <th>var2</th>\n",
       "      <th>var3</th>\n",
       "      <th>var4</th>\n",
       "      <th>...</th>\n",
       "      <th>puis_fiscale_sqrt</th>\n",
       "      <th>puis_fiscale_sq</th>\n",
       "      <th>marque</th>\n",
       "      <th>energie_veh</th>\n",
       "      <th>profession</th>\n",
       "      <th>var6</th>\n",
       "      <th>var7</th>\n",
       "      <th>var8</th>\n",
       "      <th>var14</th>\n",
       "      <th>var16</th>\n",
       "    </tr>\n",
       "    <tr>\n",
       "      <th>id</th>\n",
       "      <th></th>\n",
       "      <th></th>\n",
       "      <th></th>\n",
       "      <th></th>\n",
       "      <th></th>\n",
       "      <th></th>\n",
       "      <th></th>\n",
       "      <th></th>\n",
       "      <th></th>\n",
       "      <th></th>\n",
       "      <th></th>\n",
       "      <th></th>\n",
       "      <th></th>\n",
       "      <th></th>\n",
       "      <th></th>\n",
       "      <th></th>\n",
       "      <th></th>\n",
       "      <th></th>\n",
       "      <th></th>\n",
       "      <th></th>\n",
       "      <th></th>\n",
       "    </tr>\n",
       "  </thead>\n",
       "  <tbody>\n",
       "    <tr>\n",
       "      <th>300001</th>\n",
       "      <td>1992.0</td>\n",
       "      <td>2011.0</td>\n",
       "      <td>4</td>\n",
       "      <td>2</td>\n",
       "      <td>2983</td>\n",
       "      <td>88</td>\n",
       "      <td>5.0</td>\n",
       "      <td>3</td>\n",
       "      <td>372</td>\n",
       "      <td>0</td>\n",
       "      <td>...</td>\n",
       "      <td>2.0</td>\n",
       "      <td>16</td>\n",
       "      <td>80</td>\n",
       "      <td>2</td>\n",
       "      <td>9</td>\n",
       "      <td>0</td>\n",
       "      <td>1</td>\n",
       "      <td>1</td>\n",
       "      <td>7</td>\n",
       "      <td>1</td>\n",
       "    </tr>\n",
       "  </tbody>\n",
       "</table>\n",
       "<p>1 rows × 41 columns</p>\n",
       "</div>"
      ],
      "text/plain": [
       "        annee_naissance  annee_permis  puis_fiscale  anc_veh  kmage_annuel  \\\n",
       "id                                                                           \n",
       "300001           1992.0        2011.0             4        2          2983   \n",
       "\n",
       "        crm  var1  var2  var3  var4  ...    puis_fiscale_sqrt  \\\n",
       "id                                   ...                        \n",
       "300001   88   5.0     3   372     0  ...                  2.0   \n",
       "\n",
       "        puis_fiscale_sq  marque  energie_veh  profession  var6  var7  var8  \\\n",
       "id                                                                           \n",
       "300001               16      80            2           9     0     1     1   \n",
       "\n",
       "        var14  var16  \n",
       "id                    \n",
       "300001      7      1  \n",
       "\n",
       "[1 rows x 41 columns]"
      ]
     },
     "execution_count": 23,
     "metadata": {},
     "output_type": "execute_result"
    }
   ],
   "source": [
    "test_ready.head(1)"
   ]
  },
  {
   "cell_type": "markdown",
   "metadata": {},
   "source": [
    "# Models"
   ]
  },
  {
   "cell_type": "code",
   "execution_count": 24,
   "metadata": {
    "collapsed": true
   },
   "outputs": [],
   "source": [
    "X_train, X_test, y_train, y_test = train_test_split(\n",
    "    train_ready, data['prime_tot_ttc'], test_size=0.2, random_state=random_state)"
   ]
  },
  {
   "cell_type": "code",
   "execution_count": 25,
   "metadata": {
    "collapsed": false
   },
   "outputs": [
    {
     "name": "stdout",
     "output_type": "stream",
     "text": [
      "0.082002006387\n"
     ]
    }
   ],
   "source": [
    "import xgboost as xgb\n",
    "\n",
    "n_trees = [100, 300, 1000]\n",
    "scores = []\n",
    "for n_tree in n_trees:\n",
    "    clf = xgb.XGBRegressor(learning_rate=0.1, max_depth=8, n_estimators=n_tree)\n",
    "    clf.fit(X_train, y_train)\n",
    "    y_pred = clf.predict(X_test)\n",
    "    scores.append(metric(y_test, y_pred))\n",
    "print(scores[-1])\n",
    "\n",
    "\n",
    "# 0.092993032576 on 500 trees\n",
    "# 0.0815606511063 for 1000 trees\n",
    "\n",
    "# 0.0846066648314 for 1000"
   ]
  },
  {
   "cell_type": "code",
   "execution_count": 26,
   "metadata": {
    "collapsed": false
   },
   "outputs": [
    {
     "data": {
      "image/png": "[encoded data removed]",
      "text/plain": [
       "<matplotlib.figure.Figure at 0xc7cbef0>"
      ]
     },
     "metadata": {},
     "output_type": "display_data"
    }
   ],
   "source": [
    "plt.plot(n_trees, scores)\n",
    "plt.show()\n",
    "\n",
    "# 0.100727960829"
   ]
  },
  {
   "cell_type": "code",
   "execution_count": 27,
   "metadata": {
    "collapsed": false
   },
   "outputs": [],
   "source": [
    "# Test submit\n",
    "\n",
    "# test_data_num = test_data[num_cols]\n",
    "# test_data_num.fillna(0, inplace=True)\n",
    "# test_data_num = prepare_num_data(test_data_num)\n",
    "real_pred = clf.predict(test_ready)\n",
    "\n",
    "ans = pd.DataFrame()\n",
    "ans['id'] = test_data.index.copy()\n",
    "ans['prime_tot_ttc'] = real_pred\n",
    "\n",
    "ans.to_csv('test_ans.csv', index=False, sep=';')"
   ]
  },
  {
   "cell_type": "markdown",
   "metadata": {},
   "source": [
    "## Dealing with Categorical variables"
   ]
  },
  {
   "cell_type": "code",
   "execution_count": 7,
   "metadata": {
    "collapsed": false
   },
   "outputs": [
    {
     "data": {
      "text/html": [
       "<div>\n",
       "<table border=\"1\" class=\"dataframe\">\n",
       "  <thead>\n",
       "    <tr style=\"text-align: right;\">\n",
       "      <th></th>\n",
       "      <th>marque</th>\n",
       "      <th>energie_veh</th>\n",
       "      <th>profession</th>\n",
       "      <th>var6</th>\n",
       "      <th>var7</th>\n",
       "      <th>var8</th>\n",
       "      <th>var14</th>\n",
       "      <th>var16</th>\n",
       "    </tr>\n",
       "    <tr>\n",
       "      <th>id</th>\n",
       "      <th></th>\n",
       "      <th></th>\n",
       "      <th></th>\n",
       "      <th></th>\n",
       "      <th></th>\n",
       "      <th></th>\n",
       "      <th></th>\n",
       "      <th></th>\n",
       "    </tr>\n",
       "  </thead>\n",
       "  <tbody>\n",
       "    <tr>\n",
       "      <th>1</th>\n",
       "      <td>80</td>\n",
       "      <td>4</td>\n",
       "      <td>9</td>\n",
       "      <td>0</td>\n",
       "      <td>1</td>\n",
       "      <td>1</td>\n",
       "      <td>7</td>\n",
       "      <td>1</td>\n",
       "    </tr>\n",
       "    <tr>\n",
       "      <th>2</th>\n",
       "      <td>80</td>\n",
       "      <td>4</td>\n",
       "      <td>9</td>\n",
       "      <td>1</td>\n",
       "      <td>15</td>\n",
       "      <td>4</td>\n",
       "      <td>7</td>\n",
       "      <td>1</td>\n",
       "    </tr>\n",
       "  </tbody>\n",
       "</table>\n",
       "</div>"
      ],
      "text/plain": [
       "    marque  energie_veh  profession  var6  var7  var8  var14  var16\n",
       "id                                                                 \n",
       "1       80            4           9     0     1     1      7      1\n",
       "2       80            4           9     1    15     4      7      1"
      ]
     },
     "execution_count": 7,
     "metadata": {},
     "output_type": "execute_result"
    }
   ],
   "source": [
    "data_cat.head(2)"
   ]
  },
  {
   "cell_type": "code",
   "execution_count": 91,
   "metadata": {
    "collapsed": false
   },
   "outputs": [
    {
     "data": {
      "text/html": [
       "<div>\n",
       "<table border=\"1\" class=\"dataframe\">\n",
       "  <thead>\n",
       "    <tr style=\"text-align: right;\">\n",
       "      <th></th>\n",
       "      <th>marque</th>\n",
       "      <th>energie_veh</th>\n",
       "      <th>profession</th>\n",
       "      <th>var6</th>\n",
       "      <th>var7</th>\n",
       "      <th>var8</th>\n",
       "      <th>var14</th>\n",
       "      <th>var16</th>\n",
       "    </tr>\n",
       "    <tr>\n",
       "      <th>id</th>\n",
       "      <th></th>\n",
       "      <th></th>\n",
       "      <th></th>\n",
       "      <th></th>\n",
       "      <th></th>\n",
       "      <th></th>\n",
       "      <th></th>\n",
       "      <th></th>\n",
       "    </tr>\n",
       "  </thead>\n",
       "  <tbody>\n",
       "    <tr>\n",
       "      <th>1</th>\n",
       "      <td>117</td>\n",
       "      <td>4</td>\n",
       "      <td>9</td>\n",
       "      <td>0</td>\n",
       "      <td>1</td>\n",
       "      <td>1</td>\n",
       "      <td>7</td>\n",
       "      <td>1</td>\n",
       "    </tr>\n",
       "    <tr>\n",
       "      <th>2</th>\n",
       "      <td>117</td>\n",
       "      <td>4</td>\n",
       "      <td>9</td>\n",
       "      <td>1</td>\n",
       "      <td>15</td>\n",
       "      <td>4</td>\n",
       "      <td>7</td>\n",
       "      <td>1</td>\n",
       "    </tr>\n",
       "  </tbody>\n",
       "</table>\n",
       "</div>"
      ],
      "text/plain": [
       "    marque  energie_veh  profession  var6  var7  var8  var14  var16\n",
       "id                                                                 \n",
       "1      117            4           9     0     1     1      7      1\n",
       "2      117            4           9     1    15     4      7      1"
      ]
     },
     "execution_count": 91,
     "metadata": {},
     "output_type": "execute_result"
    }
   ],
   "source": [
    "data_cat.head(2)"
   ]
  }
 ],
 "metadata": {
  "kernelspec": {
   "display_name": "Python 2",
   "language": "python",
   "name": "python2"
  },
  "language_info": {
   "codemirror_mode": {
    "name": "ipython",
    "version": 2
   },
   "file_extension": ".py",
   "mimetype": "text/x-python",
   "name": "python",
   "nbconvert_exporter": "python",
   "pygments_lexer": "ipython2",
   "version": "2.7.11"
  }
 },
 "nbformat": 4,
 "nbformat_minor": 0
}
