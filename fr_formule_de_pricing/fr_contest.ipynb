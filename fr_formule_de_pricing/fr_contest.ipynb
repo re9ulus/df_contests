{
 "cells": [
  {
   "cell_type": "code",
   "execution_count": 1,
   "metadata": {
    "collapsed": false
   },
   "outputs": [
    {
     "name": "stderr",
     "output_type": "stream",
     "text": [
      "D:\\soft\\dev\\anaconda\\lib\\site-packages\\pandas\\computation\\__init__.py:19: UserWarning: The installed version of numexpr 2.4.4 is not supported in pandas and will be not be used\n",
      "\n",
      "  UserWarning)\n"
     ]
    }
   ],
   "source": [
    "import pandas as pd\n",
    "import numpy as np\n",
    "import matplotlib.pyplot as plt\n",
    "from sklearn.metrics import log_loss\n",
    "from sklearn.cross_validation import train_test_split\n",
    "from sklearn.preprocessing import normalize\n",
    "from sklearn.grid_search import GridSearchCV\n",
    "\n",
    "import xgboost as xgb\n",
    "\n",
    "from sklearn.ensemble import RandomForestClassifier\n",
    "from sklearn.linear_model import LinearRegression\n",
    "\n",
    "from sklearn import preprocessing\n",
    "from sklearn.metrics import accuracy_score\n",
    "\n",
    "%matplotlib inline\n",
    "plt.style.use('ggplot')\n",
    "random_state = 42\n",
    "\n",
    "def metric(y_true, y_pred):\n",
    "    return np.mean(np.abs((y_true - y_pred) / y_true))"
   ]
  },
  {
   "cell_type": "code",
   "execution_count": null,
   "metadata": {
    "collapsed": true
   },
   "outputs": [],
   "source": [
    "def prepare_num_data(df):\n",
    "    # ToDo:\n",
    "    # 1. cut post codes to first 2 digits\n",
    "    # 2. move all rare cars to separate category (rare < 10 (100?) marque)\n",
    "    # 3. convert categorical variables with onehot/labelencoding\n",
    "    # 4. add indicator variables for default variables\n",
    "    \n",
    "    # Maybe:\n",
    "    # 1. Remove from train data records that can't be in test (marque of cars, regions)\n",
    "    \n",
    "    return preprocessing.scale(df)\n",
    "#     for col in df.columns:\n",
    "#         df[col] = (df[col] - df[col].mean() + .0) / (df[col].max() - df[col].min())\n",
    "#     return df"
   ]
  },
  {
   "cell_type": "code",
   "execution_count": 51,
   "metadata": {
    "collapsed": false
   },
   "outputs": [],
   "source": [
    "data = pd.read_csv('./data/ech_apprentissage.csv', sep=';', index_col='id')\n",
    "test_data = pd.read_csv('./data/ech_test.csv', sep=';', index_col='id')"
   ]
  },
  {
   "cell_type": "code",
   "execution_count": 10,
   "metadata": {
    "collapsed": false
   },
   "outputs": [
    {
     "data": {
      "text/html": [
       "<div>\n",
       "<table border=\"1\" class=\"dataframe\">\n",
       "  <thead>\n",
       "    <tr style=\"text-align: right;\">\n",
       "      <th></th>\n",
       "      <th>annee_naissance</th>\n",
       "      <th>annee_permis</th>\n",
       "      <th>marque</th>\n",
       "      <th>puis_fiscale</th>\n",
       "      <th>anc_veh</th>\n",
       "      <th>codepostal</th>\n",
       "      <th>energie_veh</th>\n",
       "      <th>kmage_annuel</th>\n",
       "      <th>crm</th>\n",
       "      <th>profession</th>\n",
       "      <th>...</th>\n",
       "      <th>var14</th>\n",
       "      <th>var15</th>\n",
       "      <th>var16</th>\n",
       "      <th>var17</th>\n",
       "      <th>var18</th>\n",
       "      <th>var19</th>\n",
       "      <th>var20</th>\n",
       "      <th>var21</th>\n",
       "      <th>var22</th>\n",
       "      <th>prime_tot_ttc</th>\n",
       "    </tr>\n",
       "    <tr>\n",
       "      <th>id</th>\n",
       "      <th></th>\n",
       "      <th></th>\n",
       "      <th></th>\n",
       "      <th></th>\n",
       "      <th></th>\n",
       "      <th></th>\n",
       "      <th></th>\n",
       "      <th></th>\n",
       "      <th></th>\n",
       "      <th></th>\n",
       "      <th></th>\n",
       "      <th></th>\n",
       "      <th></th>\n",
       "      <th></th>\n",
       "      <th></th>\n",
       "      <th></th>\n",
       "      <th></th>\n",
       "      <th></th>\n",
       "      <th></th>\n",
       "      <th></th>\n",
       "      <th></th>\n",
       "    </tr>\n",
       "  </thead>\n",
       "  <tbody>\n",
       "    <tr>\n",
       "      <th>1</th>\n",
       "      <td>1986.0</td>\n",
       "      <td>2006.0</td>\n",
       "      <td>RENAULT</td>\n",
       "      <td>4</td>\n",
       "      <td>1</td>\n",
       "      <td>1034</td>\n",
       "      <td>gpl</td>\n",
       "      <td>2924</td>\n",
       "      <td>68</td>\n",
       "      <td>enseignant, formateur, chercheur</td>\n",
       "      <td>...</td>\n",
       "      <td>N</td>\n",
       "      <td>1</td>\n",
       "      <td>1</td>\n",
       "      <td>1</td>\n",
       "      <td>27</td>\n",
       "      <td>0</td>\n",
       "      <td>0</td>\n",
       "      <td>0</td>\n",
       "      <td>1</td>\n",
       "      <td>254.75</td>\n",
       "    </tr>\n",
       "  </tbody>\n",
       "</table>\n",
       "<p>1 rows × 33 columns</p>\n",
       "</div>"
      ],
      "text/plain": [
       "    annee_naissance  annee_permis   marque  puis_fiscale  anc_veh codepostal  \\\n",
       "id                                                                             \n",
       "1            1986.0        2006.0  RENAULT             4        1       1034   \n",
       "\n",
       "   energie_veh  kmage_annuel  crm                        profession  \\\n",
       "id                                                                    \n",
       "1          gpl          2924   68  enseignant, formateur, chercheur   \n",
       "\n",
       "        ...        var14  var15  var16  var17  var18 var19 var20 var21  var22  \\\n",
       "id      ...                                                                     \n",
       "1       ...            N      1      1      1     27     0     0     0      1   \n",
       "\n",
       "    prime_tot_ttc  \n",
       "id                 \n",
       "1          254.75  \n",
       "\n",
       "[1 rows x 33 columns]"
      ]
     },
     "execution_count": 10,
     "metadata": {},
     "output_type": "execute_result"
    }
   ],
   "source": [
    "data.head(1)"
   ]
  },
  {
   "cell_type": "code",
   "execution_count": 86,
   "metadata": {
    "collapsed": true
   },
   "outputs": [],
   "source": [
    "num_cols = ['annee_naissance', 'annee_permis', 'puis_fiscale', 'anc_veh', 'kmage_annuel', 'crm', 'var1', 'var2', 'var3', \\\n",
    "            'var4', 'var5', 'var9', 'var10', 'var11', 'var12', 'var13', 'var15', 'var17', 'var18', 'var19', 'var20', \\\n",
    "            'var21', 'var22']\n",
    "cat_cols = ['marque', 'energie_veh', 'profession', 'var6', 'var7', 'var8', 'var14', 'var16']\n",
    "unused = ['codepostal']"
   ]
  },
  {
   "cell_type": "code",
   "execution_count": 53,
   "metadata": {
    "collapsed": false
   },
   "outputs": [
    {
     "data": {
      "text/html": [
       "<div>\n",
       "<table border=\"1\" class=\"dataframe\">\n",
       "  <thead>\n",
       "    <tr style=\"text-align: right;\">\n",
       "      <th></th>\n",
       "      <th>annee_naissance</th>\n",
       "      <th>annee_permis</th>\n",
       "      <th>puis_fiscale</th>\n",
       "      <th>anc_veh</th>\n",
       "      <th>kmage_annuel</th>\n",
       "      <th>crm</th>\n",
       "      <th>var1</th>\n",
       "      <th>var2</th>\n",
       "      <th>var3</th>\n",
       "      <th>var4</th>\n",
       "      <th>...</th>\n",
       "      <th>var11</th>\n",
       "      <th>var12</th>\n",
       "      <th>var13</th>\n",
       "      <th>var15</th>\n",
       "      <th>var17</th>\n",
       "      <th>var18</th>\n",
       "      <th>var19</th>\n",
       "      <th>var20</th>\n",
       "      <th>var21</th>\n",
       "      <th>var22</th>\n",
       "    </tr>\n",
       "    <tr>\n",
       "      <th>id</th>\n",
       "      <th></th>\n",
       "      <th></th>\n",
       "      <th></th>\n",
       "      <th></th>\n",
       "      <th></th>\n",
       "      <th></th>\n",
       "      <th></th>\n",
       "      <th></th>\n",
       "      <th></th>\n",
       "      <th></th>\n",
       "      <th></th>\n",
       "      <th></th>\n",
       "      <th></th>\n",
       "      <th></th>\n",
       "      <th></th>\n",
       "      <th></th>\n",
       "      <th></th>\n",
       "      <th></th>\n",
       "      <th></th>\n",
       "      <th></th>\n",
       "      <th></th>\n",
       "    </tr>\n",
       "  </thead>\n",
       "  <tbody>\n",
       "    <tr>\n",
       "      <th>1</th>\n",
       "      <td>1986.0</td>\n",
       "      <td>2006.0</td>\n",
       "      <td>4</td>\n",
       "      <td>1</td>\n",
       "      <td>2924</td>\n",
       "      <td>68</td>\n",
       "      <td>10.0</td>\n",
       "      <td>1</td>\n",
       "      <td>372</td>\n",
       "      <td>0</td>\n",
       "      <td>...</td>\n",
       "      <td>1</td>\n",
       "      <td>855</td>\n",
       "      <td>3</td>\n",
       "      <td>1</td>\n",
       "      <td>1</td>\n",
       "      <td>27</td>\n",
       "      <td>0</td>\n",
       "      <td>0</td>\n",
       "      <td>0</td>\n",
       "      <td>1</td>\n",
       "    </tr>\n",
       "    <tr>\n",
       "      <th>2</th>\n",
       "      <td>1986.0</td>\n",
       "      <td>2006.0</td>\n",
       "      <td>8</td>\n",
       "      <td>2</td>\n",
       "      <td>11580</td>\n",
       "      <td>50</td>\n",
       "      <td>10.0</td>\n",
       "      <td>1</td>\n",
       "      <td>372</td>\n",
       "      <td>0</td>\n",
       "      <td>...</td>\n",
       "      <td>2</td>\n",
       "      <td>1490</td>\n",
       "      <td>5</td>\n",
       "      <td>2</td>\n",
       "      <td>1</td>\n",
       "      <td>28</td>\n",
       "      <td>0</td>\n",
       "      <td>0</td>\n",
       "      <td>0</td>\n",
       "      <td>1</td>\n",
       "    </tr>\n",
       "  </tbody>\n",
       "</table>\n",
       "<p>2 rows × 23 columns</p>\n",
       "</div>"
      ],
      "text/plain": [
       "    annee_naissance  annee_permis  puis_fiscale  anc_veh  kmage_annuel  crm  \\\n",
       "id                                                                            \n",
       "1            1986.0        2006.0             4        1          2924   68   \n",
       "2            1986.0        2006.0             8        2         11580   50   \n",
       "\n",
       "    var1  var2  var3  var4  ...    var11  var12  var13  var15  var17  var18  \\\n",
       "id                          ...                                               \n",
       "1   10.0     1   372     0  ...        1    855      3      1      1     27   \n",
       "2   10.0     1   372     0  ...        2   1490      5      2      1     28   \n",
       "\n",
       "    var19  var20  var21  var22  \n",
       "id                              \n",
       "1       0      0      0      1  \n",
       "2       0      0      0      1  \n",
       "\n",
       "[2 rows x 23 columns]"
      ]
     },
     "execution_count": 53,
     "metadata": {},
     "output_type": "execute_result"
    }
   ],
   "source": [
    "data_num = data[num_cols]\n",
    "\n",
    "data_num.head(2)"
   ]
  },
  {
   "cell_type": "code",
   "execution_count": 54,
   "metadata": {
    "collapsed": false
   },
   "outputs": [],
   "source": [
    "data_num.fillna(0, inplace=True)\n",
    "\n",
    "data_num = prepare_num_data(data_num)"
   ]
  },
  {
   "cell_type": "code",
   "execution_count": 14,
   "metadata": {
    "collapsed": false
   },
   "outputs": [
    {
     "data": {
      "text/html": [
       "<div>\n",
       "<table border=\"1\" class=\"dataframe\">\n",
       "  <thead>\n",
       "    <tr style=\"text-align: right;\">\n",
       "      <th></th>\n",
       "      <th>annee_naissance</th>\n",
       "      <th>annee_permis</th>\n",
       "      <th>puis_fiscale</th>\n",
       "      <th>anc_veh</th>\n",
       "      <th>kmage_annuel</th>\n",
       "      <th>crm</th>\n",
       "      <th>var1</th>\n",
       "      <th>var2</th>\n",
       "      <th>var3</th>\n",
       "      <th>var4</th>\n",
       "      <th>...</th>\n",
       "      <th>var11</th>\n",
       "      <th>var12</th>\n",
       "      <th>var13</th>\n",
       "      <th>var15</th>\n",
       "      <th>var17</th>\n",
       "      <th>var18</th>\n",
       "      <th>var19</th>\n",
       "      <th>var20</th>\n",
       "      <th>var21</th>\n",
       "      <th>var22</th>\n",
       "    </tr>\n",
       "    <tr>\n",
       "      <th>id</th>\n",
       "      <th></th>\n",
       "      <th></th>\n",
       "      <th></th>\n",
       "      <th></th>\n",
       "      <th></th>\n",
       "      <th></th>\n",
       "      <th></th>\n",
       "      <th></th>\n",
       "      <th></th>\n",
       "      <th></th>\n",
       "      <th></th>\n",
       "      <th></th>\n",
       "      <th></th>\n",
       "      <th></th>\n",
       "      <th></th>\n",
       "      <th></th>\n",
       "      <th></th>\n",
       "      <th></th>\n",
       "      <th></th>\n",
       "      <th></th>\n",
       "      <th></th>\n",
       "    </tr>\n",
       "  </thead>\n",
       "  <tbody>\n",
       "    <tr>\n",
       "      <th>1</th>\n",
       "      <td>0.00212</td>\n",
       "      <td>0.002422</td>\n",
       "      <td>-0.048711</td>\n",
       "      <td>-0.155181</td>\n",
       "      <td>-0.265328</td>\n",
       "      <td>-0.025236</td>\n",
       "      <td>-0.03972</td>\n",
       "      <td>-0.386332</td>\n",
       "      <td>0.43522</td>\n",
       "      <td>-0.139217</td>\n",
       "      <td>...</td>\n",
       "      <td>-0.155547</td>\n",
       "      <td>-0.123878</td>\n",
       "      <td>-0.412716</td>\n",
       "      <td>-0.030230</td>\n",
       "      <td>-0.118822</td>\n",
       "      <td>0.050882</td>\n",
       "      <td>-0.016124</td>\n",
       "      <td>-0.54282</td>\n",
       "      <td>-0.911923</td>\n",
       "      <td>-0.002324</td>\n",
       "    </tr>\n",
       "    <tr>\n",
       "      <th>2</th>\n",
       "      <td>0.00212</td>\n",
       "      <td>0.002422</td>\n",
       "      <td>0.020254</td>\n",
       "      <td>-0.145080</td>\n",
       "      <td>0.252438</td>\n",
       "      <td>-0.107054</td>\n",
       "      <td>-0.03972</td>\n",
       "      <td>-0.386332</td>\n",
       "      <td>0.43522</td>\n",
       "      <td>-0.139217</td>\n",
       "      <td>...</td>\n",
       "      <td>-0.145446</td>\n",
       "      <td>0.074373</td>\n",
       "      <td>0.253951</td>\n",
       "      <td>0.080881</td>\n",
       "      <td>-0.118822</td>\n",
       "      <td>0.073104</td>\n",
       "      <td>-0.016124</td>\n",
       "      <td>-0.54282</td>\n",
       "      <td>-0.911923</td>\n",
       "      <td>-0.002324</td>\n",
       "    </tr>\n",
       "  </tbody>\n",
       "</table>\n",
       "<p>2 rows × 23 columns</p>\n",
       "</div>"
      ],
      "text/plain": [
       "    annee_naissance  annee_permis  puis_fiscale   anc_veh  kmage_annuel  \\\n",
       "id                                                                        \n",
       "1           0.00212      0.002422     -0.048711 -0.155181     -0.265328   \n",
       "2           0.00212      0.002422      0.020254 -0.145080      0.252438   \n",
       "\n",
       "         crm     var1      var2     var3      var4    ...        var11  \\\n",
       "id                                                    ...                \n",
       "1  -0.025236 -0.03972 -0.386332  0.43522 -0.139217    ...    -0.155547   \n",
       "2  -0.107054 -0.03972 -0.386332  0.43522 -0.139217    ...    -0.145446   \n",
       "\n",
       "       var12     var13     var15     var17     var18     var19    var20  \\\n",
       "id                                                                        \n",
       "1  -0.123878 -0.412716 -0.030230 -0.118822  0.050882 -0.016124 -0.54282   \n",
       "2   0.074373  0.253951  0.080881 -0.118822  0.073104 -0.016124 -0.54282   \n",
       "\n",
       "       var21     var22  \n",
       "id                      \n",
       "1  -0.911923 -0.002324  \n",
       "2  -0.911923 -0.002324  \n",
       "\n",
       "[2 rows x 23 columns]"
      ]
     },
     "execution_count": 14,
     "metadata": {},
     "output_type": "execute_result"
    }
   ],
   "source": [
    "data_num.head(2)"
   ]
  },
  {
   "cell_type": "code",
   "execution_count": 55,
   "metadata": {
    "collapsed": true
   },
   "outputs": [],
   "source": [
    "X_train, X_test, y_train, y_test = train_test_split(\n",
    "    data_num, data['prime_tot_ttc'], test_size=0.2, random_state=random_state)"
   ]
  },
  {
   "cell_type": "code",
   "execution_count": 56,
   "metadata": {
    "collapsed": false
   },
   "outputs": [
    {
     "data": {
      "text/plain": [
       "0.16814169411625599"
      ]
     },
     "execution_count": 56,
     "metadata": {},
     "output_type": "execute_result"
    }
   ],
   "source": [
    "clf = LinearRegression()\n",
    "clf.fit(X_train, y_train)\n",
    "y_pred = clf.predict(X_test)\n",
    "\n",
    "metric(y_test, y_pred)"
   ]
  },
  {
   "cell_type": "code",
   "execution_count": 17,
   "metadata": {
    "collapsed": false
   },
   "outputs": [],
   "source": [
    "# from sklearn.linear_model import SGDRegressor\n",
    "\n",
    "# sgd_clf = SGDRegressor(random_state=random_state,\n",
    "#                        n_iter=100, loss=metric)\n",
    "# param_grid = {\n",
    "#     'loss' : [metric] }\n",
    "# #     'penalty': ['none', 'l1', 'l2', 'elasticnet'],\n",
    "# # #     'alpha': np.linspace(0.000001, 0.0001, 50),\n",
    "# #     'l1_ratio': [0.001, 0.1, 0.03, 0.07, 0.15, 0.3, 0.5, 0.7, 0.9, 1],\n",
    "# # }\n",
    "\n",
    "# # sgd_clf.fit(X_train, y_train)\n",
    "\n",
    "# clf = GridSearchCV(estimator=sgd_clf, param_grid=param_grid,\n",
    "#                n_jobs=-1, verbose=True)\n",
    "# clf.fit(X_train, y_train)\n",
    "\n",
    "# # y_pred = sgd_clf.predict(X_test)\n",
    "# metric(y_test, y_pred)"
   ]
  },
  {
   "cell_type": "code",
   "execution_count": 58,
   "metadata": {
    "collapsed": false
   },
   "outputs": [
    {
     "name": "stdout",
     "output_type": "stream",
     "text": [
      "0.0983956210991\n"
     ]
    }
   ],
   "source": [
    "import xgboost as xgb\n",
    "\n",
    "n_trees = [100]\n",
    "scores = []\n",
    "for n_tree in n_trees:\n",
    "    clf = xgb.XGBRegressor(learning_rate=0.1, max_depth=10, n_estimators=n_tree)\n",
    "    clf.fit(X_train, y_train)\n",
    "    y_pred = clf.predict(X_test)\n",
    "    scores.append(metric(y_test, y_pred))\n",
    "print(scores[-1])\n",
    "\n",
    "# 0.0983960489244\n",
    "# 0.0983956210991"
   ]
  },
  {
   "cell_type": "code",
   "execution_count": null,
   "metadata": {
    "collapsed": true
   },
   "outputs": [],
   "source": [
    "cross"
   ]
  },
  {
   "cell_type": "code",
   "execution_count": 33,
   "metadata": {
    "collapsed": false
   },
   "outputs": [
    {
     "name": "stdout",
     "output_type": "stream",
     "text": [
      "0.0928200674616\n"
     ]
    },
    {
     "data": {
      "image/png": "[encoded data removed]",
      "text/plain": [
       "<matplotlib.figure.Figure at 0x10c9e4e0>"
      ]
     },
     "metadata": {},
     "output_type": "display_data"
    }
   ],
   "source": [
    "plt.plot(n_trees, scores)\n",
    "plt.show()\n",
    "\n",
    "# 0.100727960829"
   ]
  },
  {
   "cell_type": "code",
   "execution_count": 34,
   "metadata": {
    "collapsed": false
   },
   "outputs": [
    {
     "name": "stderr",
     "output_type": "stream",
     "text": [
      "D:\\soft\\dev\\anaconda\\lib\\site-packages\\IPython\\kernel\\__main__.py:22: SettingWithCopyWarning: \n",
      "A value is trying to be set on a copy of a slice from a DataFrame.\n",
      "Try using .loc[row_indexer,col_indexer] = value instead\n",
      "\n",
      "See the caveats in the documentation: http://pandas.pydata.org/pandas-docs/stable/indexing.html#indexing-view-versus-copy\n"
     ]
    }
   ],
   "source": [
    "# Test submit\n",
    "\n",
    "test_data_num = test_data[num_cols]\n",
    "test_data_num.fillna(0, inplace=True)\n",
    "test_data_num = prepare_num_data(test_data_num)\n",
    "\n",
    "real_pred = clf.predict(test_data_num)"
   ]
  },
  {
   "cell_type": "code",
   "execution_count": 41,
   "metadata": {
    "collapsed": false
   },
   "outputs": [],
   "source": [
    "ans = pd.DataFrame()\n",
    "ans['id'] = test_data.index.copy()\n",
    "ans['prime_tot_ttc'] = real_pred"
   ]
  },
  {
   "cell_type": "code",
   "execution_count": 44,
   "metadata": {
    "collapsed": false
   },
   "outputs": [],
   "source": [
    "ans.to_csv('test_ans.csv', index=False, sep=';')"
   ]
  },
  {
   "cell_type": "markdown",
   "metadata": {},
   "source": [
    "## Dealing with Categorical variables"
   ]
  },
  {
   "cell_type": "code",
   "execution_count": 88,
   "metadata": {
    "collapsed": false
   },
   "outputs": [
    {
     "name": "stderr",
     "output_type": "stream",
     "text": [
      "D:\\soft\\dev\\anaconda\\lib\\site-packages\\IPython\\kernel\\__main__.py:7: SettingWithCopyWarning: \n",
      "A value is trying to be set on a copy of a slice from a DataFrame.\n",
      "Try using .loc[row_indexer,col_indexer] = value instead\n",
      "\n",
      "See the caveats in the documentation: http://pandas.pydata.org/pandas-docs/stable/indexing.html#indexing-view-versus-copy\n"
     ]
    }
   ],
   "source": [
    "from sklearn.feature_extraction import DictVectorizer as DV\n",
    "\n",
    "vectorizer = DV(sparse = False)\n",
    "data_cat = data[cat_cols]\n",
    "\n",
    "for col in data_cat:\n",
    "    data_cat[col] = data_cat[col].astype('category')\n",
    "\n",
    "vec_data_cat_train = pd.get_dummies(data_cat['marque'])\n",
    "# vec_x_cat_test = vectorizer.transform(x_cat_test) "
   ]
  },
  {
   "cell_type": "code",
   "execution_count": 87,
   "metadata": {
    "collapsed": false
   },
   "outputs": [],
   "source": [
    "data_cat.dtypes\n",
    "vec_data_cat_train;"
   ]
  },
  {
   "cell_type": "code",
   "execution_count": 90,
   "metadata": {
    "collapsed": false
   },
   "outputs": [
    {
     "name": "stderr",
     "output_type": "stream",
     "text": [
      "D:\\soft\\dev\\anaconda\\lib\\site-packages\\IPython\\kernel\\__main__.py:7: SettingWithCopyWarning: \n",
      "A value is trying to be set on a copy of a slice from a DataFrame.\n",
      "Try using .loc[row_indexer,col_indexer] = value instead\n",
      "\n",
      "See the caveats in the documentation: http://pandas.pydata.org/pandas-docs/stable/indexing.html#indexing-view-versus-copy\n"
     ]
    }
   ],
   "source": [
    "from sklearn import preprocessing\n",
    "\n",
    "encoders = {}\n",
    "\n",
    "for col in data_cat:\n",
    "    encoders[col] = preprocessing.LabelEncoder()\n",
    "    data_cat[col] = encoders[col].fit_transform(data_cat[col])"
   ]
  },
  {
   "cell_type": "code",
   "execution_count": 91,
   "metadata": {
    "collapsed": false
   },
   "outputs": [
    {
     "data": {
      "text/html": [
       "<div>\n",
       "<table border=\"1\" class=\"dataframe\">\n",
       "  <thead>\n",
       "    <tr style=\"text-align: right;\">\n",
       "      <th></th>\n",
       "      <th>marque</th>\n",
       "      <th>energie_veh</th>\n",
       "      <th>profession</th>\n",
       "      <th>var6</th>\n",
       "      <th>var7</th>\n",
       "      <th>var8</th>\n",
       "      <th>var14</th>\n",
       "      <th>var16</th>\n",
       "    </tr>\n",
       "    <tr>\n",
       "      <th>id</th>\n",
       "      <th></th>\n",
       "      <th></th>\n",
       "      <th></th>\n",
       "      <th></th>\n",
       "      <th></th>\n",
       "      <th></th>\n",
       "      <th></th>\n",
       "      <th></th>\n",
       "    </tr>\n",
       "  </thead>\n",
       "  <tbody>\n",
       "    <tr>\n",
       "      <th>1</th>\n",
       "      <td>117</td>\n",
       "      <td>4</td>\n",
       "      <td>9</td>\n",
       "      <td>0</td>\n",
       "      <td>1</td>\n",
       "      <td>1</td>\n",
       "      <td>7</td>\n",
       "      <td>1</td>\n",
       "    </tr>\n",
       "    <tr>\n",
       "      <th>2</th>\n",
       "      <td>117</td>\n",
       "      <td>4</td>\n",
       "      <td>9</td>\n",
       "      <td>1</td>\n",
       "      <td>15</td>\n",
       "      <td>4</td>\n",
       "      <td>7</td>\n",
       "      <td>1</td>\n",
       "    </tr>\n",
       "  </tbody>\n",
       "</table>\n",
       "</div>"
      ],
      "text/plain": [
       "    marque  energie_veh  profession  var6  var7  var8  var14  var16\n",
       "id                                                                 \n",
       "1      117            4           9     0     1     1      7      1\n",
       "2      117            4           9     1    15     4      7      1"
      ]
     },
     "execution_count": 91,
     "metadata": {},
     "output_type": "execute_result"
    }
   ],
   "source": [
    "data_cat.head(2)"
   ]
  }
 ],
 "metadata": {
  "kernelspec": {
   "display_name": "Python 2",
   "language": "python",
   "name": "python2"
  },
  "language_info": {
   "codemirror_mode": {
    "name": "ipython",
    "version": 2
   },
   "file_extension": ".py",
   "mimetype": "text/x-python",
   "name": "python",
   "nbconvert_exporter": "python",
   "pygments_lexer": "ipython2",
   "version": "2.7.11"
  }
 },
 "nbformat": 4,
 "nbformat_minor": 0
}
